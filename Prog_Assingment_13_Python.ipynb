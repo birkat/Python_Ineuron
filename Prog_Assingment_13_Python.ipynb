{
 "cells": [
  {
   "cell_type": "code",
   "execution_count": 18,
   "id": "af468266",
   "metadata": {},
   "outputs": [
    {
     "name": "stdout",
     "output_type": "stream",
     "text": [
      "Enter three values: \n",
      "Enter values: 100\n",
      "Enter values: 150\n",
      "Enter values: 180\n",
      "[100, 150, 180]\n",
      "The output of the program: \n",
      "[18, 22, 24]\n"
     ]
    }
   ],
   "source": [
    "\"\"\"Question 1:\n",
    "Write a program that calculates and prints the value according to the given formula:\n",
    "Q = Square root of [(2 * C * D)/H]\n",
    "Following are the fixed values of C and H:\n",
    "C is 50. H is 30.\n",
    "D is the variable whose values should be input to your program in a comma-separated\n",
    "sequence.\"\"\"\n",
    "\n",
    "import math\n",
    "c = 50\n",
    "h = 30\n",
    "d_size = 3\n",
    "emp_list = []\n",
    "\n",
    "print(\"Enter three values: \")\n",
    "for i in range(d_size):\n",
    "    d_list = int(input(\"Enter values: \"))\n",
    "    emp_list.append(d_list)\n",
    "print(emp_list)\n",
    "\n",
    "q1 = []\n",
    "for j in range(len(emp_list)):\n",
    "    #print(emp_list[j])\n",
    "    d = emp_list[j]\n",
    "    q= (2 * c * d ) / h\n",
    "    p= math.sqrt(q)\n",
    "    q1.append(int(p))\n",
    "\n",
    "print(\"The output of the program: \")\n",
    "print(q1)\n"
   ]
  },
  {
   "cell_type": "code",
   "execution_count": 8,
   "id": "f3095af2",
   "metadata": {},
   "outputs": [
    {
     "name": "stdout",
     "output_type": "stream",
     "text": [
      "Enter two digits with coma(,): 3,5\n",
      "[[0, 0, 0, 0, 0], [0, 1, 2, 3, 4], [0, 2, 4, 6, 8]]\n"
     ]
    }
   ],
   "source": [
    "\"\"\"Write a program which takes 2 digits, X,Y as input and generates a 2-dimensional array. The\n",
    "element value in the i-th row and j-th column of the array should be i*j.\"\"\"\n",
    "\n",
    "two_digit = input(\"Enter two digits with coma(,): \")\n",
    "x, y = two_digit.split(\",\")\n",
    "x = int(x)\n",
    "y = int(y)\n",
    "\n",
    "result = []\n",
    "for i in range(x):\n",
    "    raw = []\n",
    "    for j in range(y):\n",
    "        mul = i*j\n",
    "        raw.append(mul)\n",
    "    #print(raw)\n",
    "    result.append(raw)\n",
    "print(result)\n"
   ]
  },
  {
   "cell_type": "code",
   "execution_count": 32,
   "id": "96b29651",
   "metadata": {},
   "outputs": [
    {
     "name": "stdout",
     "output_type": "stream",
     "text": [
      "Enter words with comma(,): without,hello,bag,world\n",
      "bag,hello,without,world\n"
     ]
    }
   ],
   "source": [
    "\"\"\"Question 3:\n",
    "Write a program that accepts a comma separated sequence of words as input and prints the\n",
    "words in a comma-separated sequence after sorting them alphabetically.\n",
    "Suppose the following input is supplied to the program:\n",
    "without,hello,bag,world\n",
    "Then, the output should be:\n",
    "bag,hello,without,world\"\"\"\n",
    "\n",
    "comm_inp = input(\"Enter words with comma(,): \")\n",
    "sp_word = comm_inp.split(\",\")\n",
    "sp_word.sort()\n",
    "print(\",\".join(sp_word))"
   ]
  },
  {
   "cell_type": "code",
   "execution_count": 14,
   "id": "b3be6796",
   "metadata": {},
   "outputs": [
    {
     "name": "stdout",
     "output_type": "stream",
     "text": [
      "Enter words with space: hello world and practice makes perfect and hello world again\n",
      "again and hello makes perfect practice world\n"
     ]
    }
   ],
   "source": [
    "\"\"\"Question 4:\n",
    "Write a program that accepts a sequence of whitespace separated words as input and prints\n",
    "the words after removing all duplicate words and sorting them alphanumerically.\n",
    "Suppose the following input is supplied to the program:\n",
    "hello world and practice makes perfect and hello world again\n",
    "Then, the output should be:\n",
    "again and hello makes perfect practice world\"\"\"\n",
    "\n",
    "\n",
    "whi_inpt = input(\"Enter words with space: \").split()\n",
    "whi_inpt.sort()\n",
    "dup = []\n",
    "for i in whi_inpt:\n",
    "    if i not in dup:\n",
    "        dup.append(i)\n",
    "print(\" \".join(dup))"
   ]
  },
  {
   "cell_type": "code",
   "execution_count": 36,
   "id": "f17d70b4",
   "metadata": {},
   "outputs": [
    {
     "name": "stdout",
     "output_type": "stream",
     "text": [
      "Enter sentences: hello world! 123\n",
      "LETTERS:  10\n"
     ]
    }
   ],
   "source": [
    "\"\"\"Question 5:\n",
    "Write a program that accepts a sentence and calculate the number of letters and digits.\n",
    "Suppose the following input is supplied to the program:\n",
    "hello world! 123\n",
    "Then, the output should be:\n",
    "LETTERS 10\"\"\"\n",
    "\n",
    "sen = input(\"Enter sentences: \")\n",
    "h = []\n",
    "for i in range(len(sen)):\n",
    "    if sen[i].isalpha() == True:\n",
    "        #print(i)\n",
    "        h.append(sen[i])\n",
    "print(\"LETTERS: \",len(h))\n",
    "        "
   ]
  },
  {
   "cell_type": "code",
   "execution_count": 37,
   "id": "ce42ad8e",
   "metadata": {},
   "outputs": [
    {
     "name": "stdout",
     "output_type": "stream",
     "text": [
      "Enter the password: ABd1234@1,a F1#,2w3E*,2We3345\n",
      "['ABd1234@1', 'a F1#', '2w3E*', '2We3345']\n",
      "VALIDATE PASSWORD:  ABd1234@1\n"
     ]
    }
   ],
   "source": [
    "\"\"\"Question 6:\n",
    "A website requires the users to input username and password to register. Write a program to\n",
    "check the validity of password input by users.\n",
    "Following are the criteria for checking the password:\n",
    "1. At least 1 letter between [a-z]\n",
    "2. At least 1 number between [0-9]\n",
    "1. At least 1 letter between [A-Z]\n",
    "3. At least 1 character from [$#@]\n",
    "4. Minimum length of transaction password: 6\n",
    "5. Maximum length of transaction password: 12\n",
    "Your program should accept a sequence of comma separated passwords and will check them\n",
    "according to the above criteria. Passwords that match the criteria are to be printed, each\n",
    "separated by a comma.\n",
    "Example\n",
    "If the following passwords are given as input to the program:\n",
    "ABd1234@1,a F1#,2w3E*,2We3345\n",
    "Then, the output of the program should be:\n",
    "ABd1234@1\"\"\"\n",
    "\n",
    "def passwd_validate(i):\n",
    "\n",
    "    special_symbol=['$','#','@']\n",
    "    pw=True\n",
    "    if len(i) < 6:\n",
    "        pw=False\n",
    "    if len(i) > 12:\n",
    "        pw=False\n",
    "    if not any(char.isdigit() for char in i):\n",
    "        pw=False\n",
    "    if not any(char.isupper() for char in i):\n",
    "        pw=False\n",
    "    if not any(char.islower() for char in i):\n",
    "        pw=False\n",
    "    if not any(char in special_symbol for char in i):\n",
    "        pw=False\n",
    "    return pw\n",
    "\n",
    "passwd = input(\"Enter the password: \").split(\",\")\n",
    "print(passwd)\n",
    "for i in passwd:\n",
    "    if passwd_validate(i) == True:\n",
    "        print(\"VALIDATE PASSWORD: \",i)\n"
   ]
  }
 ],
 "metadata": {
  "kernelspec": {
   "display_name": "Python 3 (ipykernel)",
   "language": "python",
   "name": "python3"
  },
  "language_info": {
   "codemirror_mode": {
    "name": "ipython",
    "version": 3
   },
   "file_extension": ".py",
   "mimetype": "text/x-python",
   "name": "python",
   "nbconvert_exporter": "python",
   "pygments_lexer": "ipython3",
   "version": "3.9.7"
  }
 },
 "nbformat": 4,
 "nbformat_minor": 5
}
