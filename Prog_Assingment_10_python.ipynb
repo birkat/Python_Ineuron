{
 "cells": [
  {
   "cell_type": "code",
   "execution_count": 16,
   "id": "26105eb4",
   "metadata": {},
   "outputs": [
    {
     "name": "stdout",
     "output_type": "stream",
     "text": [
      "Enter elements seprated by space: 3 5 4\n",
      "['3', '5', '4']\n",
      "12\n"
     ]
    }
   ],
   "source": [
    "#1. Write a Python program to find sum of elements in list?\n",
    "\n",
    "sum_list = input(\"Enter elements seprated by space: \")\n",
    "ele_list = sum_list.split()\n",
    "print(ele_list)\n",
    "\n",
    "sum = 0\n",
    "for i in ele_list:\n",
    "    sum = sum + int(i)\n",
    "print(sum)\n",
    "    "
   ]
  },
  {
   "cell_type": "code",
   "execution_count": 15,
   "id": "52661349",
   "metadata": {},
   "outputs": [
    {
     "name": "stdout",
     "output_type": "stream",
     "text": [
      "Enter elements seprated by space: 1 2 3 4 5\n",
      "['1', '2', '3', '4', '5']\n",
      "120\n"
     ]
    }
   ],
   "source": [
    "#2. Write a Python program to Multiply all numbers in the list?\n",
    "\n",
    "mul_list = input(\"Enter elements seprated by space: \")\n",
    "el_mul = mul_list.split()\n",
    "print(el_mul)\n",
    "\n",
    "mul = 1\n",
    "for i in el_mul:\n",
    "    mul = mul * int(i)\n",
    "print(mul)"
   ]
  },
  {
   "cell_type": "code",
   "execution_count": 21,
   "id": "dc10e891",
   "metadata": {},
   "outputs": [
    {
     "name": "stdout",
     "output_type": "stream",
     "text": [
      "Enter size of list:6\n",
      "Enter element: 34\n",
      "Enter element: 56\n",
      "Enter element: 12\n",
      "Enter element: 78\n",
      "Enter element: 10\n",
      "Enter element: 90\n",
      "[34, 56, 12, 78, 10, 90]\n",
      "10 is smallest number\n"
     ]
    }
   ],
   "source": [
    "#3. Write a Python program to find smallest number in a list?\n",
    "\n",
    "list_range = int(input(\"Enter size of list:\"))\n",
    "\n",
    "number = []\n",
    "for i in range(1,list_range + 1):\n",
    "    small_num = int(input(\"Enter element: \"))\n",
    "    number.append(small_num)\n",
    "print(number)\n",
    "\n",
    "small = number[0]\n",
    "for j in number:\n",
    "    if j < small:\n",
    "        small = j\n",
    "print(f\"{small} is smallest number\")\n",
    "        \n"
   ]
  },
  {
   "cell_type": "code",
   "execution_count": 23,
   "id": "654c5ff9",
   "metadata": {},
   "outputs": [
    {
     "name": "stdout",
     "output_type": "stream",
     "text": [
      "Enter Elements seprated by space: 78 56 45 99 23 54 56 66\n",
      "['78', '56', '45', '99', '23', '54', '56', '66']\n",
      "99 is a largest number\n"
     ]
    }
   ],
   "source": [
    "#4. Write a Python program to find largest number in a list?\n",
    "\n",
    "large_num = input(\"Enter Elements seprated by space: \")\n",
    "el_large = large_num.split()\n",
    "print(el_large)\n",
    "\n",
    "large = max(el_large)\n",
    "print(f\"{large} is a largest number\")"
   ]
  },
  {
   "cell_type": "code",
   "execution_count": 39,
   "id": "aebf8088",
   "metadata": {},
   "outputs": [
    {
     "name": "stdout",
     "output_type": "stream",
     "text": [
      "Enter size of list:8\n",
      "Enter element: 34\n",
      "Enter element: 56\n",
      "Enter element: 78\n",
      "Enter element: 90\n",
      "Enter element: 98\n",
      "Enter element: 76\n",
      "Enter element: 54\n",
      "Enter element: 100\n",
      "[34, 56, 78, 90, 98, 76, 54, 100]\n",
      "98 is second largest number\n"
     ]
    }
   ],
   "source": [
    "#5. Write a Python program to find second largest number in a list?\n",
    "\n",
    "list_range = int(input(\"Enter size of list:\"))\n",
    "\n",
    "number = []\n",
    "for i in range(1,list_range + 1):\n",
    "    larg_num = int(input(\"Enter element: \"))\n",
    "    number.append(larg_num)\n",
    "print(number)\n",
    "\n",
    "for j in range(len(number)):\n",
    "    for k in range(j + 1, len(number)):\n",
    "        if number[j] > number[k]:\n",
    "            number[j], number[k] = number[k], number[j]\n",
    "sec_number = ((len(number))-2)\n",
    "#print(number)\n",
    "print(f\"{number[sec_number]} is second largest number\")"
   ]
  },
  {
   "cell_type": "code",
   "execution_count": 47,
   "id": "f352711e",
   "metadata": {},
   "outputs": [
    {
     "name": "stdout",
     "output_type": "stream",
     "text": [
      "Enter size of list:8\n",
      "Enter to find N largest elements from a list \n",
      "Enter n number:3\n",
      "Enter element: 256\n",
      "Enter element: 34\n",
      "Enter element: 12\n",
      "Enter element: 76\n",
      "Enter element: 45\n",
      "Enter element: 89\n",
      "Enter element: 900\n",
      "Enter element: 345\n",
      "[256, 34, 12, 76, 45, 89, 900, 345]\n",
      "[900, 345, 256]\n"
     ]
    }
   ],
   "source": [
    "#6. Write a Python program to find N largest elements from a list?\n",
    "\n",
    "def n_large_no(number, n_num):\n",
    "    result = []\n",
    "    for i in range(0,n_num):\n",
    "        max = 0\n",
    "        for j in range(len(number)):\n",
    "            if number[j] > max:\n",
    "                max = number[j]\n",
    "        number.remove(max)\n",
    "        result.append(max)\n",
    "    return result\n",
    "\n",
    "list_range = int(input(\"Enter size of list:\"))\n",
    "print(\"Enter to find N largest elements from a list \")\n",
    "n_num = int(input(\"Enter n number:\"))\n",
    "number = []\n",
    "for i in range(1,list_range + 1):\n",
    "    larg_num = int(input(\"Enter element: \"))\n",
    "    number.append(larg_num)\n",
    "print(number)\n",
    "\n",
    "print(n_large_no(number, n_num))\n"
   ]
  },
  {
   "cell_type": "code",
   "execution_count": 55,
   "id": "bfd80b62",
   "metadata": {},
   "outputs": [
    {
     "name": "stdout",
     "output_type": "stream",
     "text": [
      "Enter size of list: 8\n",
      "Enter element in list: 1\n",
      "Enter element in list: 2\n",
      "Enter element in list: 3\n",
      "Enter element in list: 4\n",
      "Enter element in list: 5\n",
      "Enter element in list: 6\n",
      "Enter element in list: 7\n",
      "Enter element in list: 8\n",
      "[1, 2, 3, 4, 5, 6, 7, 8]\n",
      "[2, 4, 6, 8]\n"
     ]
    }
   ],
   "source": [
    "#7. Write a Python program to print even numbers in a list?\n",
    "\n",
    "def even_list(no_list):\n",
    "    evennumber = []\n",
    "    for i in no_list:\n",
    "        if i % 2 == 0:\n",
    "            evennumber.append(i)\n",
    "    return evennumber\n",
    "\n",
    "size = int(input(\"Enter size of list: \"))\n",
    "no_list = []\n",
    "for i in range(1,size+1):\n",
    "    elem_list = int(input(\"Enter element in list: \"))\n",
    "    no_list.append(elem_list)\n",
    "print(no_list)\n",
    "\n",
    "print(even_list(no_list))"
   ]
  },
  {
   "cell_type": "code",
   "execution_count": 56,
   "id": "4920ce13",
   "metadata": {},
   "outputs": [
    {
     "name": "stdout",
     "output_type": "stream",
     "text": [
      "Enter size of list: 8\n",
      "Enter element in list: 1\n",
      "Enter element in list: 2\n",
      "Enter element in list: 3\n",
      "Enter element in list: 4\n",
      "Enter element in list: 5\n",
      "Enter element in list: 6\n",
      "Enter element in list: 7\n",
      "Enter element in list: 8\n",
      "[1, 2, 3, 4, 5, 6, 7, 8]\n",
      "[1, 3, 5, 7]\n"
     ]
    }
   ],
   "source": [
    "#8. Write a Python program to print odd numbers in a List?\n",
    "\n",
    "\n",
    "def odd_list(no_list):\n",
    "    oddnumber = []\n",
    "    for i in no_list:\n",
    "        if i % 2 != 0:\n",
    "            oddnumber.append(i)\n",
    "    return oddnumber\n",
    "\n",
    "size = int(input(\"Enter size of list: \"))\n",
    "no_list = []\n",
    "for i in range(1,size+1):\n",
    "    elem_list = int(input(\"Enter element in list: \"))\n",
    "    no_list.append(elem_list)\n",
    "print(no_list)\n",
    "\n",
    "print(odd_list(no_list))"
   ]
  },
  {
   "cell_type": "code",
   "execution_count": 64,
   "id": "c11559c8",
   "metadata": {},
   "outputs": [
    {
     "name": "stdout",
     "output_type": "stream",
     "text": [
      "Enter size of list: 8\n",
      "Enter element in list: 23\n",
      "Enter element in list: []\n",
      "Enter element in list: 45\n",
      "Enter element in list: []\n",
      "Enter element in list: []\n",
      "Enter element in list: 12\n",
      "Enter element in list: 34\n",
      "Enter element in list: []\n",
      "['23', '[]', '45', '[]', '[]', '12', '34', '[]']\n",
      "List after empty list removal : ['23', '45', '12', '34']\n"
     ]
    }
   ],
   "source": [
    "# 9. Write a Python program to Remove empty List from List?\n",
    "\n",
    "def empty_list(no_list):\n",
    "    emptynumber = []\n",
    "    for i in no_list:\n",
    "        if i != \"[]\":\n",
    "            emptynumber.append(i)\n",
    "    return emptynumber\n",
    "\n",
    "size = int(input(\"Enter size of list: \"))\n",
    "no_list = []\n",
    "for i in range(1,size+1):\n",
    "    elem_list = input(\"Enter element in list: \")\n",
    "    no_list.append(elem_list)\n",
    "print(no_list)\n",
    "\n",
    "e = empty_list(no_list)\n",
    "\n",
    "print (\"List after empty list removal : \" + str(e))"
   ]
  },
  {
   "cell_type": "code",
   "execution_count": 10,
   "id": "5d1da2c3",
   "metadata": {},
   "outputs": [
    {
     "name": "stdout",
     "output_type": "stream",
     "text": [
      "Enter size of list: 8\n",
      "Enter a list: 3\n",
      "Enter a list: 45\n",
      "Enter a list: 65\n",
      "Enter a list: 43\n",
      "Enter a list: 23\n",
      "Enter a list: 67\n",
      "Enter a list: 89\n",
      "Enter a list: 90\n",
      "orignal list: [3, 45, 65, 43, 23, 67, 89, 90]\n",
      "After cloning:  [3, 45, 65, 43, 23, 67, 89, 90]\n"
     ]
    }
   ],
   "source": [
    "#10. Write a Python program to Cloning or Copying a list?\n",
    "\n",
    "def clone_list(c_list):\n",
    "    list_copy = c_list\n",
    "    return list_copy\n",
    "\n",
    "c_size = int(input(\"Enter size of list: \"))\n",
    "c_list = []\n",
    "for i in range(1, c_size + 1):\n",
    "    c_numb = int(input('Enter a list: '))\n",
    "    c_list.append(c_numb)\n",
    "print(\"orignal list:\", c_list)\n",
    "\n",
    "print(\"After cloning: \",clone_list(c_list))\n"
   ]
  },
  {
   "cell_type": "code",
   "execution_count": 21,
   "id": "a0d2a679",
   "metadata": {},
   "outputs": [
    {
     "name": "stdout",
     "output_type": "stream",
     "text": [
      "Enter size of list: 8\n",
      "Enter count occurrences number: 4\n",
      "Enter a list: 1\n",
      "Enter a list: 4\n",
      "Enter a list: 2\n",
      "Enter a list: 4\n",
      "Enter a list: 3\n",
      "Enter a list: 6\n",
      "Enter a list: 4\n",
      "Enter a list: 7\n",
      "orignal list: [1, 4, 2, 4, 3, 6, 4, 7]\n",
      "4 has occured 3 times\n"
     ]
    }
   ],
   "source": [
    "#11. Write a Python program to Count occurrences of an element in a list?\n",
    "\n",
    "def count_occur(co_list1, co_occur):\n",
    "    count = 0\n",
    "    for i in co_list1:\n",
    "        if co_occur == i:\n",
    "            count = count + 1\n",
    "    return count\n",
    "\n",
    "co_size = int(input(\"Enter size of list: \"))\n",
    "co_occur = int(input(\"Enter count occurrences number: \"))\n",
    "co_list1 = []\n",
    "\n",
    "for i in range(1, co_size + 1):\n",
    "    co_numb = int(input('Enter a list: '))\n",
    "    co_list1.append(co_numb)\n",
    "\n",
    "print(\"orignal list:\", co_list1 )\n",
    "\n",
    "t=count_occur(co_list1, co_occur )\n",
    "print(f\"{co_occur} has occured {t} times\")"
   ]
  },
  {
   "cell_type": "code",
   "execution_count": null,
   "id": "7e1fc319",
   "metadata": {},
   "outputs": [],
   "source": []
  }
 ],
 "metadata": {
  "kernelspec": {
   "display_name": "Python 3 (ipykernel)",
   "language": "python",
   "name": "python3"
  },
  "language_info": {
   "codemirror_mode": {
    "name": "ipython",
    "version": 3
   },
   "file_extension": ".py",
   "mimetype": "text/x-python",
   "name": "python",
   "nbconvert_exporter": "python",
   "pygments_lexer": "ipython3",
   "version": "3.9.7"
  }
 },
 "nbformat": 4,
 "nbformat_minor": 5
}
