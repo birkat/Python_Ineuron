{
 "cells": [
  {
   "cell_type": "code",
   "execution_count": 18,
   "id": "4daa6593",
   "metadata": {},
   "outputs": [
    {
     "name": "stdout",
     "output_type": "stream",
     "text": [
      "True\n",
      "False\n",
      "True\n",
      "False\n",
      "True\n"
     ]
    }
   ],
   "source": [
    "\"\"\"Question 1\n",
    "Create a function that takes a number as an argument and returns True or False depending\n",
    "on whether the number is symmetrical or not. A number is symmetrical when it is the same as\n",
    "its reverse.\n",
    "Examples\n",
    "is_symmetrical(7227) ➞ True\n",
    "is_symmetrical(12567) ➞ False\n",
    "is_symmetrical(44444444) ➞ True\n",
    "is_symmetrical(9939) ➞ False\n",
    "is_symmetrical(1112111) ➞ True\"\"\"\n",
    "\n",
    "def is_symmetrical(a):\n",
    "    b = str(a)\n",
    "    c = b[::-1]\n",
    "    if a == int(c):\n",
    "        return True\n",
    "    else:\n",
    "        return False\n",
    "\n",
    "print(is_symmetrical(7227))\n",
    "print(is_symmetrical(12567))\n",
    "print(is_symmetrical(44444444))\n",
    "print(is_symmetrical(9939))\n",
    "print(is_symmetrical(1112111))"
   ]
  },
  {
   "cell_type": "code",
   "execution_count": 1,
   "id": "c779eadf",
   "metadata": {},
   "outputs": [
    {
     "name": "stdout",
     "output_type": "stream",
     "text": [
      "6\n",
      "24\n",
      "0\n",
      "-20\n"
     ]
    }
   ],
   "source": [
    "\"\"\"Question 2\n",
    "Given a string of numbers separated by a comma and space, return the product of the\n",
    "numbers.\n",
    "Examples\n",
    "multiply_nums(\"2, 3\") ➞ 6\n",
    "multiply_nums(\"1, 2, 3, 4\") ➞ 24\n",
    "multiply_nums(\"54, 75, 453, 0\") ➞ 0\n",
    "multiply_nums(\"10, -2\") ➞ -20\"\"\"\n",
    "\n",
    "def multiply_nums(n):\n",
    "    list(n.split(\" \"))\n",
    "    l = list(n.split(\",\"))\n",
    "    mul = 1\n",
    "    for i in l:\n",
    "        mul = mul * int(i)\n",
    "    return mul\n",
    "\n",
    "print(multiply_nums(\"2, 3\"))\n",
    "print(multiply_nums(\"1, 2, 3, 4\"))\n",
    "print(multiply_nums(\"54, 75, 453, 0\"))\n",
    "print(multiply_nums(\"10, -2\"))"
   ]
  },
  {
   "cell_type": "code",
   "execution_count": 46,
   "id": "950c2631",
   "metadata": {},
   "outputs": [
    {
     "name": "stdout",
     "output_type": "stream",
     "text": [
      "811181\n",
      "416649\n",
      "9414\n"
     ]
    }
   ],
   "source": [
    "\"\"\"Question 3\n",
    "Create a function that squares every digit of a number.\n",
    "Examples\n",
    "square_digits(9119) ➞ 811181\n",
    "square_digits(2483) ➞ 416649\n",
    "square_digits(3212) ➞ 9414\n",
    "Notes\n",
    "The function receives an integer and must return an integer.\"\"\"\n",
    "\n",
    "def square_digits(a):\n",
    "    b = str(a)\n",
    "    s = \"\"\n",
    "    for i in b:\n",
    "        m = int(i)\n",
    "        n = (m * m)\n",
    "        s = s + str(n)\n",
    "    return int(s)\n",
    "print(square_digits(9119))\n",
    "print(square_digits(2483))\n",
    "print(square_digits(3212))"
   ]
  },
  {
   "cell_type": "code",
   "execution_count": 60,
   "id": "4658bd44",
   "metadata": {},
   "outputs": [
    {
     "name": "stdout",
     "output_type": "stream",
     "text": [
      "[1, 3, 5]\n",
      "[4]\n",
      "[5, 7, 8, 9, 10, 15]\n",
      "[1, 2, 3]\n"
     ]
    }
   ],
   "source": [
    "\"\"\"Question 4\n",
    "Create a function that sorts a list and removes all duplicate items from it.\n",
    "Examples\n",
    "setify([1, 3, 3, 5, 5]) ➞ [1, 3, 5]\n",
    "setify([4, 4, 4, 4]) ➞ [4]\n",
    "setify([5, 7, 8, 9, 10, 15]) ➞ [5, 7, 8, 9, 10, 15]\n",
    "setify([3, 3, 3, 2, 1]) ➞ [1, 2, 3]\"\"\"\n",
    "\n",
    "def setify(a):\n",
    "    l = []\n",
    "    for i in a:\n",
    "        if i not in l:\n",
    "            l.append(i)\n",
    "    l.sort()\n",
    "    return l\n",
    "        \n",
    "print(setify([1, 3, 3, 5, 5]))\n",
    "print(setify([4, 4, 4, 4]))\n",
    "print(setify([5, 7, 8, 9, 10, 15]))\n",
    "print(setify([3, 3, 3, 2, 1]))"
   ]
  },
  {
   "cell_type": "code",
   "execution_count": 64,
   "id": "a3ef7238",
   "metadata": {},
   "outputs": [
    {
     "name": "stdout",
     "output_type": "stream",
     "text": [
      "3.0\n",
      "3.0\n",
      "6.0\n"
     ]
    }
   ],
   "source": [
    "\"\"\"Question 5\n",
    "Create a function that returns the mean of all digits.\n",
    "Examples\n",
    "mean(42) ➞ 3\n",
    "mean(12345) ➞ 3\n",
    "mean(666) ➞ 6\n",
    "Notes\n",
    " The mean of all digits is the sum of digits / how many digits there are (e.g. mean of digits in\n",
    "512 is (5+1+2)/3(number of digits) = 8/3=2).\n",
    " The mean will always be an integer.\"\"\"\n",
    "\n",
    "def mean(a):\n",
    "    sum = 0\n",
    "    cont = 0\n",
    "    while a > 0:\n",
    "        rem = a % 10\n",
    "        cont = cont + 1\n",
    "        sum = sum + rem\n",
    "        a //= 10\n",
    "    result = sum/cont\n",
    "    return result\n",
    "        \n",
    "\n",
    "print(mean(42))\n",
    "print(mean(12345))\n",
    "print(mean(666))"
   ]
  },
  {
   "cell_type": "code",
   "execution_count": null,
   "id": "318a9ac5",
   "metadata": {},
   "outputs": [],
   "source": []
  }
 ],
 "metadata": {
  "kernelspec": {
   "display_name": "Python 3 (ipykernel)",
   "language": "python",
   "name": "python3"
  },
  "language_info": {
   "codemirror_mode": {
    "name": "ipython",
    "version": 3
   },
   "file_extension": ".py",
   "mimetype": "text/x-python",
   "name": "python",
   "nbconvert_exporter": "python",
   "pygments_lexer": "ipython3",
   "version": "3.9.7"
  }
 },
 "nbformat": 4,
 "nbformat_minor": 5
}
