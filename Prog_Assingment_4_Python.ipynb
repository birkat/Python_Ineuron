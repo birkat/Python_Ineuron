{
 "cells": [
  {
   "cell_type": "code",
   "execution_count": 5,
   "id": "42209bd8",
   "metadata": {},
   "outputs": [
    {
     "name": "stdout",
     "output_type": "stream",
     "text": [
      "Enter a factorial Number: 6\n",
      "Factorial is:  720\n"
     ]
    }
   ],
   "source": [
    "\"\"\"1. Write a Python Program to Find the Factorial of a Number?\"\"\"\n",
    "\n",
    "def fact_num(i):\n",
    "    fac=1\n",
    "    while(i>0):\n",
    "        fac=fac*i\n",
    "        i=i-1\n",
    "    return fac\n",
    "\n",
    "i=int(input(\"Enter a factorial Number: \"))\n",
    "a=fact_num(i)\n",
    "print(\"Factorial is: \",a)\n"
   ]
  },
  {
   "cell_type": "code",
   "execution_count": 16,
   "id": "ef89e68d",
   "metadata": {},
   "outputs": [
    {
     "name": "stdout",
     "output_type": "stream",
     "text": [
      "Enter a number: 12\n",
      "Table of 12\n",
      "12 * 1 = 12\n",
      "12 * 2 = 24\n",
      "12 * 3 = 36\n",
      "12 * 4 = 48\n",
      "12 * 5 = 60\n",
      "12 * 6 = 72\n",
      "12 * 7 = 84\n",
      "12 * 8 = 96\n",
      "12 * 9 = 108\n",
      "12 * 10 = 120\n"
     ]
    }
   ],
   "source": [
    "\"\"\"2. Write a Python Program to Display the multiplication Table?\"\"\"\n",
    "\n",
    "def mul_num():\n",
    "    num=int(input(\"Enter a number: \"))\n",
    "    print(f\"Table of {num}\")\n",
    "    for i in range(1,11):\n",
    "        j=i*num\n",
    "        print(num,\"*\",i,\"=\",j)\n",
    "        \n",
    "mul_num()"
   ]
  },
  {
   "cell_type": "code",
   "execution_count": 23,
   "id": "7fb03a40",
   "metadata": {},
   "outputs": [
    {
     "name": "stdout",
     "output_type": "stream",
     "text": [
      "Enter a Number: 500\n",
      "0 1 1 2 3 5 8 13 21 34 55 89 144 233 377 "
     ]
    }
   ],
   "source": [
    "\"\"\"3. Write a Python Program to Print the Fibonacci sequence?\"\"\"\n",
    "\n",
    "def fibo_seq():\n",
    "    n=int(input(\"Enter a Number: \"))\n",
    "    x=0\n",
    "    y=1\n",
    "    z=0\n",
    "    while(z<=n):\n",
    "        print(z,end=\" \")\n",
    "        x=y\n",
    "        y=z\n",
    "        z=x+y\n",
    "\n",
    "fibo_seq()"
   ]
  },
  {
   "cell_type": "code",
   "execution_count": 27,
   "id": "9438f607",
   "metadata": {},
   "outputs": [
    {
     "name": "stdout",
     "output_type": "stream",
     "text": [
      "Enter a number: 9474\n",
      "Armstrong Number\n"
     ]
    }
   ],
   "source": [
    "\"\"\"4. Write a Python Program to Check Armstrong Number?\"\"\"\n",
    "\n",
    "def check_armst():\n",
    "    n=int(input(\"Enter a number: \"))\n",
    "    num=n\n",
    "    count = len(str(num))\n",
    "    sum=0\n",
    "    temp = num\n",
    "    while temp > 0:\n",
    "        digit = temp % 10\n",
    "        sum += digit ** count\n",
    "        temp //= 10\n",
    "    if(num==sum):\n",
    "        print(\"Armstrong Number\")\n",
    "    else:\n",
    "        print(\"Not Armstrong Number\")\n",
    "        \n",
    "check_armst()"
   ]
  },
  {
   "cell_type": "code",
   "execution_count": 29,
   "id": "a9402ccc",
   "metadata": {},
   "outputs": [
    {
     "name": "stdout",
     "output_type": "stream",
     "text": [
      "Enter lower value: 100\n",
      "Enter upper value: 10000\n",
      "153\n",
      "370\n",
      "371\n",
      "407\n",
      "1634\n",
      "8208\n",
      "9474\n"
     ]
    }
   ],
   "source": [
    "\"\"\"5. Write a Python Program to Find Armstrong Number in an Interval?\"\"\"\n",
    "\n",
    "def inter_armst():\n",
    "    lower = int(input(\"Enter lower value: \"))  \n",
    "    upper = int(input(\"Enter upper value: \")) \n",
    "    for num in range(lower,upper+1):\n",
    "        count = len(str(num))\n",
    "        sum = 0\n",
    "        temp = num\n",
    "        while temp > 0:\n",
    "            digit = temp % 10\n",
    "            sum += digit ** count\n",
    "            temp //= 10\n",
    "        if num == sum:\n",
    "            print(num)\n",
    "    \n",
    "inter_armst()"
   ]
  },
  {
   "cell_type": "code",
   "execution_count": 44,
   "id": "5473690b",
   "metadata": {},
   "outputs": [
    {
     "name": "stdout",
     "output_type": "stream",
     "text": [
      "Enter a number: 100\n",
      "5050\n"
     ]
    }
   ],
   "source": [
    "\"\"\"6. Write a Python Program to Find the Sum of Natural Numbers?\"\"\"\n",
    "\n",
    "def nat_num(num):\n",
    "    if(num<0):\n",
    "        print(\"Enter a Positive Number\")\n",
    "    sum=0\n",
    "    for i in range(0,num+1):\n",
    "        sum=sum+i\n",
    "        num -=1\n",
    "    return(sum)\n",
    "\n",
    "num=int(input(\"Enter a number: \"))\n",
    "print(nat_num(num))"
   ]
  }
 ],
 "metadata": {
  "kernelspec": {
   "display_name": "Python 3 (ipykernel)",
   "language": "python",
   "name": "python3"
  },
  "language_info": {
   "codemirror_mode": {
    "name": "ipython",
    "version": 3
   },
   "file_extension": ".py",
   "mimetype": "text/x-python",
   "name": "python",
   "nbconvert_exporter": "python",
   "pygments_lexer": "ipython3",
   "version": "3.9.7"
  }
 },
 "nbformat": 4,
 "nbformat_minor": 5
}
