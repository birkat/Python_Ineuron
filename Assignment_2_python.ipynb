{
 "cells": [
  {
   "cell_type": "raw",
   "id": "b202c665",
   "metadata": {},
   "source": [
    "1.What are the two values of the Boolean data type? How do you write them?\n",
    "\n",
    "Answer:\n",
    "The two boolean values:\n",
    "—True\n",
    "-False\n",
    "\n",
    "example:\n",
    "1<2 o/p True\n",
    "2<1 o/p Flase\n"
   ]
  },
  {
   "cell_type": "code",
   "execution_count": null,
   "id": "b7976548",
   "metadata": {},
   "outputs": [],
   "source": [
    "2. What are the three different types of Boolean operators?\n",
    "\n",
    "Answer:\n",
    "The three different types of Boolean operators are:\n",
    "AND,OR,NOT"
   ]
  },
  {
   "cell_type": "raw",
   "id": "af3e1384",
   "metadata": {},
   "source": [
    "3. Make a list of each Boolean operator's truth tables (i.e. every possible combination of Boolean\n",
    "values for the operator and what it evaluate ).\n",
    "\n",
    "Answer\n",
    "\n",
    "Truth Table using AND\n",
    "\n",
    "    X        Y      X AND Y\n",
    "    Flase   False   False\n",
    "    True    False   False\n",
    "    Flase   True    False\n",
    "    True    True    True\n",
    "    \n",
    "    \n",
    " Truth Table using OR\n",
    " \n",
    "     X      Y       X OR Y\n",
    "    Flase   False   False\n",
    "    True    False   True\n",
    "    Flase   True    True\n",
    "    True    True    True\n",
    "    \n",
    " Truth Table using NOT\n",
    " \n",
    "     X        NOT X\n",
    "    Flase     True\n",
    "    True      Flase\n",
    "    \n",
    "  Truth Table using +                         \n",
    " \n",
    "     X      Y       X + Y\n",
    "     0      0         0\n",
    "     1      0         1\n",
    "     0      1         1\n",
    "     1      1         1\n",
    "     \n",
    "   Truth Table using -                         \n",
    " \n",
    "     X      Y       X * Y\n",
    "     0      0         0\n",
    "     1      0         0\n",
    "     0      1         0\n",
    "     1      1         1"
   ]
  },
  {
   "cell_type": "raw",
   "id": "8e2affad",
   "metadata": {},
   "source": [
    "4. What are the values of the following expressions?"
   ]
  },
  {
   "cell_type": "code",
   "execution_count": 1,
   "id": "e7784cf1",
   "metadata": {},
   "outputs": [
    {
     "data": {
      "text/plain": [
       "False"
      ]
     },
     "execution_count": 1,
     "metadata": {},
     "output_type": "execute_result"
    }
   ],
   "source": [
    "(5 > 4) and (3 == 5)"
   ]
  },
  {
   "cell_type": "code",
   "execution_count": 2,
   "id": "ac683bce",
   "metadata": {},
   "outputs": [
    {
     "data": {
      "text/plain": [
       "False"
      ]
     },
     "execution_count": 2,
     "metadata": {},
     "output_type": "execute_result"
    }
   ],
   "source": [
    "not (5 > 4)"
   ]
  },
  {
   "cell_type": "code",
   "execution_count": 3,
   "id": "b3647672",
   "metadata": {},
   "outputs": [
    {
     "data": {
      "text/plain": [
       "True"
      ]
     },
     "execution_count": 3,
     "metadata": {},
     "output_type": "execute_result"
    }
   ],
   "source": [
    "(5 > 4) or (3 == 5)"
   ]
  },
  {
   "cell_type": "code",
   "execution_count": 4,
   "id": "a75180f7",
   "metadata": {},
   "outputs": [
    {
     "data": {
      "text/plain": [
       "False"
      ]
     },
     "execution_count": 4,
     "metadata": {},
     "output_type": "execute_result"
    }
   ],
   "source": [
    "not ((5 > 4) or (3 == 5))"
   ]
  },
  {
   "cell_type": "code",
   "execution_count": 5,
   "id": "2a682891",
   "metadata": {},
   "outputs": [
    {
     "data": {
      "text/plain": [
       "False"
      ]
     },
     "execution_count": 5,
     "metadata": {},
     "output_type": "execute_result"
    }
   ],
   "source": [
    "(True and True) and (True == False)"
   ]
  },
  {
   "cell_type": "code",
   "execution_count": 6,
   "id": "9eea9184",
   "metadata": {},
   "outputs": [
    {
     "data": {
      "text/plain": [
       "True"
      ]
     },
     "execution_count": 6,
     "metadata": {},
     "output_type": "execute_result"
    }
   ],
   "source": [
    "(not False) or (not True)"
   ]
  },
  {
   "cell_type": "raw",
   "id": "646eec96",
   "metadata": {},
   "source": [
    "5. What are the six comparison operators?\n",
    "\n",
    "Answer\n",
    "\n",
    "The six comparison operators are:\n",
    "equal to (==), not equal to (!=), \n",
    "greater than (>), less than (<), \n",
    "greater than or equal to (>=), less than or equal to (<=)"
   ]
  },
  {
   "cell_type": "raw",
   "id": "c5bffe7b",
   "metadata": {},
   "source": [
    "6. How do you tell the difference between the equal to and assignment operators?Describe a\n",
    "condition and when you would use one.\n",
    "\n",
    "Answer\n",
    "\n",
    "= is assignment, if we wanna assign x as 2, we do int x = 2.\n",
    "== is comparison, if we wanna compare x and 2, we do if (x == 2), either true or false."
   ]
  },
  {
   "cell_type": "code",
   "execution_count": 13,
   "id": "f5af2b6c",
   "metadata": {},
   "outputs": [
    {
     "name": "stdout",
     "output_type": "stream",
     "text": [
      "ham\n",
      "spam\n",
      "spam\n"
     ]
    }
   ],
   "source": [
    "# 7. Identify the three blocks in this code:\n",
    "spam = 0\n",
    "if spam == 10:\n",
    "    print('eggs')\n",
    "elif spam >5:\n",
    "    print('bacon')\n",
    "else:\n",
    "    print('ham')\n",
    "    print('spam')\n",
    "    print('spam')"
   ]
  },
  {
   "cell_type": "code",
   "execution_count": 19,
   "id": "84fd8436",
   "metadata": {},
   "outputs": [
    {
     "name": "stdout",
     "output_type": "stream",
     "text": [
      "4\n",
      "Greetings!\n"
     ]
    }
   ],
   "source": [
    "# 8. Write code that prints Hello if 1 is stored in spam, prints Howdy if 2 is stored in spam, and prints\n",
    "# Greetings! if anything else is stored in spam.\n",
    "\n",
    "spam=int(input())\n",
    "if spam == 1:\n",
    "    print(\"Hello\")\n",
    "elif spam == 2:\n",
    "    print(\"Howdy\")\n",
    "else:\n",
    "    print(\"Greetings!\")"
   ]
  },
  {
   "cell_type": "raw",
   "id": "5d87f2ab",
   "metadata": {},
   "source": [
    "9.If your programme is stuck in an endless loop, what keys you’ll press?\n",
    "\n",
    "Answer\n",
    "\n",
    "ctrl + c (to interrup)"
   ]
  },
  {
   "cell_type": "raw",
   "id": "79c9825c",
   "metadata": {},
   "source": [
    "10. How can you tell the difference between break and continue?\n",
    "\n",
    "Answer\n",
    "\n",
    "break: When the program encounters the break statement, it will exit from the loop, it contains and control will go to the statement after the loop.\n",
    "For eg:"
   ]
  },
  {
   "cell_type": "code",
   "execution_count": 1,
   "id": "b5cb60c6",
   "metadata": {},
   "outputs": [
    {
     "name": "stdout",
     "output_type": "stream",
     "text": [
      "0\n",
      "1\n",
      "2\n",
      "3\n",
      "4\n",
      "End of the Program\n"
     ]
    }
   ],
   "source": [
    "for i in range(0,10):\n",
    "    if i==5:\n",
    "        break\n",
    "    print(i)\n",
    "print(\"End of the Program\")"
   ]
  },
  {
   "cell_type": "raw",
   "id": "c747c80e",
   "metadata": {},
   "source": [
    "continue:- when the program encounters a continue statement it will skip the particular iteration and proceed with the next statements.\n",
    "for e.g:"
   ]
  },
  {
   "cell_type": "code",
   "execution_count": 2,
   "id": "c96541ae",
   "metadata": {},
   "outputs": [
    {
     "name": "stdout",
     "output_type": "stream",
     "text": [
      "0\n",
      "1\n",
      "2\n",
      "3\n",
      "4\n",
      "6\n",
      "7\n",
      "8\n",
      "9\n",
      "End of the program\n"
     ]
    }
   ],
   "source": [
    "for i in range(0,10):\n",
    "    if i == 5:\n",
    "        continue\n",
    "    print(i)\n",
    "print(\"End of the program\")"
   ]
  },
  {
   "cell_type": "raw",
   "id": "a4c0e0a8",
   "metadata": {},
   "source": [
    "11. In a for loop, what is the difference between range(10), range(0, 10), and range(0, 10, 1)?\n",
    "\n",
    "Answer\n",
    "\n",
    "range(10):\n",
    "The start is not given the start is considered as 0 and the last value is given till 10. The last value is always 1 less than the given value i.e. stop-1. so the output is 0 1 2 3 4 5 6 7 8 9\n",
    "\n",
    "range(0,10)\n",
    "The start value is 0, and stop value is 10. So the sequence of numbers will start from 0 till the stop value. The last value in the sequence will be 1 less than the stop value 10-1 = 9. so the output is 0 1 2 3 4 5 6 7 8 9\n",
    "\n",
    "range(0, 10, 1)\n",
    "The start value is 0, the stop value is 10, so the sequence of numbers will stop at (10-1) i.e 9. The step is 1, so each value in the sequence will be incremented by 1. If the step value is not given, the default step value will be 1. so the output is 0 1 2 3 4 5 6 7 8 9"
   ]
  },
  {
   "cell_type": "code",
   "execution_count": 14,
   "id": "44033acc",
   "metadata": {},
   "outputs": [
    {
     "name": "stdout",
     "output_type": "stream",
     "text": [
      "1 2 3 4 5 6 7 8 9 10 "
     ]
    }
   ],
   "source": [
    "#12. Write a short program that prints the numbers 1 to 10 using a for loop. Then write an equivalent\n",
    "#program that prints the numbers 1 to 10 using a while loop.\n",
    "\n",
    "#using for loop\n",
    "for i in range(1,11):\n",
    "    print(i,end=\" \")"
   ]
  },
  {
   "cell_type": "code",
   "execution_count": 17,
   "id": "990f27ff",
   "metadata": {},
   "outputs": [
    {
     "name": "stdout",
     "output_type": "stream",
     "text": [
      "1 2 3 4 5 6 7 8 9 10 "
     ]
    }
   ],
   "source": [
    "#using while loop\n",
    "\n",
    "i=1\n",
    "while(i<=10):\n",
    "    print(i,end=\" \")\n",
    "    i=i+1"
   ]
  },
  {
   "cell_type": "raw",
   "id": "01c1ce9b",
   "metadata": {},
   "source": [
    "13. If you had a function named bacon() inside a module named spam, how would you call it after\n",
    "importing spam?\n",
    "\n",
    "Answer\n",
    "\n",
    "module spam in spam.py\n",
    "def bacon():\n",
    "    print(\"hi\")\n",
    "    \n",
    "module b in b.py uses module spam\n",
    "import spam.bacon()\n",
    "\n",
    "output\n",
    "\"hi\""
   ]
  }
 ],
 "metadata": {
  "kernelspec": {
   "display_name": "Python 3 (ipykernel)",
   "language": "python",
   "name": "python3"
  },
  "language_info": {
   "codemirror_mode": {
    "name": "ipython",
    "version": 3
   },
   "file_extension": ".py",
   "mimetype": "text/x-python",
   "name": "python",
   "nbconvert_exporter": "python",
   "pygments_lexer": "ipython3",
   "version": "3.9.7"
  }
 },
 "nbformat": 4,
 "nbformat_minor": 5
}
