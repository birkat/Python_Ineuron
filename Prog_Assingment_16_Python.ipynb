{
 "cells": [
  {
   "cell_type": "code",
   "execution_count": 33,
   "id": "77654d27",
   "metadata": {},
   "outputs": [
    {
     "name": "stdout",
     "output_type": "stream",
     "text": [
      "Enter String: enthusiastic\n",
      "en... en... enthusiastic?\n",
      "en... en... enthusiastic?\n"
     ]
    }
   ],
   "source": [
    "\"\"\"Question1. Write a function that stutters a word as if someone is struggling to read it. The\n",
    "first two letters are repeated twice with an ellipsis ... and space after each, and then the\n",
    "word is pronounced with a question mark ?.\n",
    "Examples\n",
    "stutter(\"incredible\") ➞ \"in... in... incredible?\"\n",
    "stutter(\"enthusiastic\") ➞ \"en... en... enthusiastic?\"\n",
    "stutter(\"outstanding\") ➞ \"ou... ou... outstanding?\"\n",
    "\n",
    "Hint :- Assume all input is in lower case and at least two characters long.\"\"\"\n",
    "\n",
    "##1st way\n",
    "n= input(\"Enter String: \")\n",
    "n1 = slice(2)\n",
    "n2 = \"... \"\n",
    "print((2* (n[n1] + n2)) + n + \"?\")\n",
    "\n",
    "##2nd way using function\n",
    "def stutter(n):\n",
    "    p = n[:2]\n",
    "    return(2* (p + \"... \") + n + \"?\")\n",
    "\n",
    "#s1= input(\"Enter String: \")\n",
    "print(stutter(n))"
   ]
  },
  {
   "cell_type": "code",
   "execution_count": 43,
   "id": "cc3f571e",
   "metadata": {},
   "outputs": [
    {
     "name": "stdout",
     "output_type": "stream",
     "text": [
      "2864.8\n"
     ]
    }
   ],
   "source": [
    "\"\"\"Question 2.Create a function that takes an angle in radians and returns the corresponding\n",
    "angle in degrees rounded to one decimal place.\n",
    "Examples\n",
    "radians_to_degrees(1) ➞ 57.3\n",
    "radians_to_degrees(20) ➞ 1145.9\n",
    "radians_to_degrees(50) ➞ 2864.8\"\"\"\n",
    "\n",
    "import math\n",
    "\n",
    "def radians_to_degrees(r):\n",
    "    rd = r * (180 / math.pi)\n",
    "    return round(rd, 1) \n",
    "\n",
    "print(radians_to_degrees(50))\n"
   ]
  },
  {
   "cell_type": "code",
   "execution_count": 44,
   "id": "42b45c5b",
   "metadata": {},
   "outputs": [
    {
     "data": {
      "text/plain": [
       "33"
      ]
     },
     "execution_count": 44,
     "metadata": {},
     "output_type": "execute_result"
    }
   ],
   "source": [
    "2 ** 5 + 1"
   ]
  },
  {
   "cell_type": "code",
   "execution_count": 49,
   "id": "4c6bec9c",
   "metadata": {},
   "outputs": [
    {
     "name": "stdout",
     "output_type": "stream",
     "text": [
      "True\n"
     ]
    }
   ],
   "source": [
    "\"\"\"Question 3. In this challenge, establish if a given integer num is a Curzon number. If 1 plus\n",
    "2 elevated to num is exactly divisible by 1 plus 2 multiplied by num, then num is a Curzon\n",
    "number.\n",
    "Given a non-negative integer num, implement a function that returns True if num is a Curzon\n",
    "number, or False otherwise.\n",
    "Examples\n",
    "is_curzon(5) ➞ True\n",
    "# 2 ** 5 + 1 = 33\n",
    "# 2 * 5 + 1 = 11\n",
    "# 33 is a multiple of 11\n",
    "is_curzon(10) ➞ False\n",
    "# 2 ** 10 + 1 = 1025\n",
    "# 2 * 10 + 1 = 21\n",
    "# 1025 is not a multiple of 21\n",
    "is_curzon(14) ➞ True\n",
    "# 2 ** 14 + 1 = 16385\n",
    "# 2 * 14 + 1 = 29\n",
    "# 16385 is a multiple of 29\"\"\"\n",
    "\n",
    "\n",
    "def is_curzon(c):\n",
    "    a = 2 ** c + 1 \n",
    "    b = 2 * c +1\n",
    "    if a%b == 0:\n",
    "        return True\n",
    "    else:\n",
    "        return False\n",
    "\n",
    "print(is_curzon(14))"
   ]
  },
  {
   "cell_type": "code",
   "execution_count": 52,
   "id": "bf9b6874",
   "metadata": {},
   "outputs": [
    {
     "name": "stdout",
     "output_type": "stream",
     "text": [
      "2.598076211353316\n"
     ]
    }
   ],
   "source": [
    "import math\n",
    "b = ((3 * math.sqrt(3) * (1 * 1)) / 2)\n",
    "print(b)"
   ]
  },
  {
   "cell_type": "code",
   "execution_count": 56,
   "id": "11509161",
   "metadata": {},
   "outputs": [
    {
     "name": "stdout",
     "output_type": "stream",
     "text": [
      "23.4\n"
     ]
    }
   ],
   "source": [
    "\"\"\"Question 4.Given the side length x find the area of a hexagon.\n",
    "Examples\n",
    "area_of_hexagon(1) ➞ 2.6\n",
    "area_of_hexagon(2) ➞ 10.4\n",
    "area_of_hexagon(3) ➞ 23.4\"\"\"\n",
    "\n",
    "import math\n",
    "\n",
    "def area_of_hexagon(h):\n",
    "    b = ((3 * math.sqrt(3) * (h * h)) / 2)\n",
    "    return round(b, 1)\n",
    "\n",
    "print(area_of_hexagon(3))"
   ]
  },
  {
   "cell_type": "code",
   "execution_count": 97,
   "id": "a8752980",
   "metadata": {},
   "outputs": [
    {
     "name": "stdout",
     "output_type": "stream",
     "text": [
      "Enter Decimal number: 12\n",
      "\n",
      "Decimal to Binary = 1100\n",
      "Binary to Decimal 12\n"
     ]
    }
   ],
   "source": [
    "\"\"\"Question 5. Create a function that returns a base-2 (binary) representation of a base-10\n",
    "(decimal) string number. To convert is simple: ((2) means base-2 and (10) means base-10)\n",
    "010101001(2) = 1 + 8 + 32 + 128.\n",
    "Going from right to left, the value of the most right bit is 1, now from that every bit to the left\n",
    "will be x2 the value, value of an 8 bit binary numbers are (256, 128, 64, 32, 16, 8, 4, 2, 1).\n",
    "Examples\n",
    "binary(1) ➞ \"1\"\n",
    "# 1*1 = 1\n",
    "binary(5) ➞ \"101\"\n",
    "# 1*1 + 1*4 = 5\n",
    "binary(10) ➞ \"1010\"\n",
    "# 1*2 + 1*8 = 10\"\"\"\n",
    "\n",
    "def bin_dec(k):\n",
    "    p = str(k)\n",
    "    length = len(p)\n",
    "    value = 0\n",
    "    for i in p:\n",
    "        if i == \"1\":\n",
    "            value = value + (1 * 2 ** (length - 1))\n",
    "            length = length - 1\n",
    "            continue\n",
    "        elif i == \"0\":\n",
    "            value = value + 0\n",
    "            length = length - 1\n",
    "            continue\n",
    "    return value\n",
    "\n",
    "def dec_bin(d):\n",
    "    b = 0\n",
    "    m = 1\n",
    "    while d>0:\n",
    "        b = b + ((d%2)*m)\n",
    "        m = m*10\n",
    "        d = int(d/2)\n",
    "    return b\n",
    "\n",
    "d_num = int(input(\"Enter Decimal number: \"))\n",
    "\n",
    "l = dec_bin(d_num)\n",
    "print(\"\\nDecimal to Binary =\", l)\n",
    "\n",
    "c = bin_dec(l)\n",
    "print(\"Binary to Decimal\", c)\n"
   ]
  },
  {
   "cell_type": "code",
   "execution_count": null,
   "id": "36f71943",
   "metadata": {},
   "outputs": [],
   "source": []
  }
 ],
 "metadata": {
  "kernelspec": {
   "display_name": "Python 3 (ipykernel)",
   "language": "python",
   "name": "python3"
  },
  "language_info": {
   "codemirror_mode": {
    "name": "ipython",
    "version": 3
   },
   "file_extension": ".py",
   "mimetype": "text/x-python",
   "name": "python",
   "nbconvert_exporter": "python",
   "pygments_lexer": "ipython3",
   "version": "3.9.7"
  }
 },
 "nbformat": 4,
 "nbformat_minor": 5
}
