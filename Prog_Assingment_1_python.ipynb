{
 "cells": [
  {
   "cell_type": "code",
   "execution_count": 1,
   "id": "f83e5951",
   "metadata": {},
   "outputs": [
    {
     "name": "stdout",
     "output_type": "stream",
     "text": [
      "Hello Python\n"
     ]
    }
   ],
   "source": [
    "\"\"\"1. Write a Python program to print \"Hello Python\"?\"\"\"\n",
    "\n",
    "print(\"Hello Python\")"
   ]
  },
  {
   "cell_type": "code",
   "execution_count": 5,
   "id": "36e5e86d",
   "metadata": {},
   "outputs": [
    {
     "name": "stdout",
     "output_type": "stream",
     "text": [
      "Enter the value for a: 34\n",
      "Enter tha value for b: 2\n",
      "Add:  36\n",
      "Div:  17.0\n"
     ]
    }
   ],
   "source": [
    "\"\"\"2. Write a Python program to do arithmetical operations addition and division.?\"\"\"\n",
    "\n",
    "a=int(input(\"Enter the value for a: \"))\n",
    "b=int(input(\"Enter tha value for b: \"))\n",
    "print(\"Add: \",a+b)\n",
    "print(\"Div: \",a/b)"
   ]
  },
  {
   "cell_type": "code",
   "execution_count": 10,
   "id": "d53d4627",
   "metadata": {},
   "outputs": [
    {
     "name": "stdout",
     "output_type": "stream",
     "text": [
      "Enter the value for a: 34.56\n",
      "Enter tha value for b: 23.59\n",
      "Enter the value for c: 12.45\n",
      "area of trangle 83.60\n"
     ]
    }
   ],
   "source": [
    "\"\"\"3. Write a Python program to find the area of a triangle?\"\"\"\n",
    "\n",
    "a=float(input(\"Enter the value for a: \"))\n",
    "b=float(input(\"Enter tha value for b: \"))\n",
    "c=float(input(\"Enter the value for c: \"))\n",
    "\n",
    "s=(a+b+c)/2\n",
    "\n",
    "area=(s*(s-a)*(s-b)*(s-c))**0.5\n",
    "print(\"area of trangle %0.2f\"%area)\n"
   ]
  },
  {
   "cell_type": "code",
   "execution_count": 14,
   "id": "11bdeee0",
   "metadata": {},
   "outputs": [
    {
     "name": "stdout",
     "output_type": "stream",
     "text": [
      "value of a= 4\n",
      "value of b= 3\n"
     ]
    }
   ],
   "source": [
    "\"\"\"4. Write a Python program to swap two variables?\"\"\"\n",
    "a=3\n",
    "b=4\n",
    "\n",
    "a,b=b,a\n",
    "\n",
    "print(\"value of a=\",a)\n",
    "print(\"value of b=\",b)\n"
   ]
  },
  {
   "cell_type": "code",
   "execution_count": 20,
   "id": "d0366a1d",
   "metadata": {},
   "outputs": [
    {
     "name": "stdout",
     "output_type": "stream",
     "text": [
      "85\n"
     ]
    }
   ],
   "source": [
    "\"\"\"5. Write a Python program to generate a random number?\"\"\"\n",
    "\n",
    "from random import randint\n",
    "\n",
    "value = randint(0,100)\n",
    "#value=ramdom.ramdom()\n",
    "print(value)"
   ]
  },
  {
   "cell_type": "code",
   "execution_count": null,
   "id": "566cf2a1",
   "metadata": {},
   "outputs": [],
   "source": []
  }
 ],
 "metadata": {
  "kernelspec": {
   "display_name": "Python 3 (ipykernel)",
   "language": "python",
   "name": "python3"
  },
  "language_info": {
   "codemirror_mode": {
    "name": "ipython",
    "version": 3
   },
   "file_extension": ".py",
   "mimetype": "text/x-python",
   "name": "python",
   "nbconvert_exporter": "python",
   "pygments_lexer": "ipython3",
   "version": "3.9.7"
  }
 },
 "nbformat": 4,
 "nbformat_minor": 5
}
