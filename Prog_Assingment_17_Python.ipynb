{
 "cells": [
  {
   "cell_type": "code",
   "execution_count": 108,
   "id": "b1ab468f",
   "metadata": {},
   "outputs": [
    {
     "name": "stdout",
     "output_type": "stream",
     "text": [
      "Enter number for a: 5\n",
      "Enter number for b: 30\n",
      "Enter number divided by c from the range a, b: 6\n",
      "6 + 12 + 18 + 24 = 60"
     ]
    }
   ],
   "source": [
    "\"\"\"Question1. Create a function that takes three arguments a, b, c and returns the sum of the\n",
    "numbers that are evenly divided by c from the range a, b inclusive.\n",
    "Examples\n",
    "evenly_divisible(1, 10, 20) ➞ 0\n",
    "# No number between 1 and 10 can be evenly divided by 20.\n",
    "evenly_divisible(1, 10, 2) ➞ 30\n",
    "# 2 + 4 + 6 + 8 + 10 = 30\n",
    "evenly_divisible(1, 10, 3) ➞ 18\n",
    "# 3 + 6 + 9 = 18\"\"\"\n",
    "\n",
    "\n",
    "a = int(input(\"Enter number for a: \"))\n",
    "b = int(input(\"Enter number for b: \"))\n",
    "c = int(input(\"Enter number divided by c from the range a, b: \"))\n",
    "e = []\n",
    "\n",
    "def div_sum(a,b,c):\n",
    "    for i in range(a,b):\n",
    "        if i % c == 0:\n",
    "            e.append(i)\n",
    "    return e\n",
    "    \n",
    "if c > a and c > b:\n",
    "    print(f\"No number between {a} and {b} can be evenly divided by {c}.\")\n",
    "else:\n",
    "    h = div_sum(a,b,c)\n",
    "    res = sum(h)\n",
    "    print(*h, sep=\" + \", end = f\" = {res}\")\n"
   ]
  },
  {
   "cell_type": "code",
   "execution_count": 123,
   "id": "b748d466",
   "metadata": {},
   "outputs": [
    {
     "name": "stdout",
     "output_type": "stream",
     "text": [
      "True\n",
      "False\n",
      "True\n"
     ]
    }
   ],
   "source": [
    "\"\"\"Question2. Create a function that returns True if a given inequality expression is correct and\n",
    "False otherwise.\"\"\"\n",
    "\n",
    "def exp(a):\n",
    "    y= eval(a)\n",
    "    if y:\n",
    "        return True\n",
    "    else:\n",
    "        return False\n",
    "\n",
    "    \n",
    "print(exp(\"3<7<11\"))\n",
    "print(exp(\"13>33>1\"))\n",
    "print(exp(\"1<2<3<9>6\"))"
   ]
  },
  {
   "cell_type": "code",
   "execution_count": 150,
   "id": "109b4282",
   "metadata": {},
   "outputs": [
    {
     "name": "stdout",
     "output_type": "stream",
     "text": [
      "th# ##rdv#rk\n",
      "m?nn?? m??s?\n",
      "sh*k*sp**r*\n"
     ]
    }
   ],
   "source": [
    "\"\"\"Question3. Create a function that replaces all the vowels in a string with a specified character.\"\"\"\n",
    "\n",
    "def rep_vow(a,b):\n",
    "    for i in vow:\n",
    "        a = a.replace(i,b)\n",
    "    print(a)\n",
    "\n",
    "\n",
    "vow = (\"AaEeIiOoUu\")\n",
    "rep_vow(\"the aardvark\", \"#\")\n",
    "rep_vow(\"minnie mouse\", \"?\")\n",
    "rep_vow(\"shakespeare\", \"*\")\n",
    "    "
   ]
  },
  {
   "cell_type": "code",
   "execution_count": 1,
   "id": "01d2a0e9",
   "metadata": {},
   "outputs": [
    {
     "name": "stdout",
     "output_type": "stream",
     "text": [
      "120\n",
      "6\n",
      "1\n"
     ]
    }
   ],
   "source": [
    "\"\"\"Question4. Write a function that calculates the factorial of a number recursively.\"\"\"\n",
    "\n",
    "def fact(n):\n",
    "    if n == 1:\n",
    "        return 1\n",
    "    else:\n",
    "        return (n*fact(n-1))\n",
    "\n",
    "print(fact(5))\n",
    "print(fact(3))\n",
    "print(fact(1))"
   ]
  },
  {
   "cell_type": "code",
   "execution_count": 2,
   "id": "ae29a8e1",
   "metadata": {},
   "outputs": [
    {
     "name": "stdout",
     "output_type": "stream",
     "text": [
      "5\n",
      "0\n"
     ]
    }
   ],
   "source": [
    "\"\"\"Question 5 Hamming distance is the number of characters that differ between two strings.\"\"\"\n",
    "\n",
    "def hamming(m, n):\n",
    "    i = 0\n",
    "    count = 0\n",
    " \n",
    "    while(i < len(m)):\n",
    "        if(m[i] != n[i]):\n",
    "            count += 1\n",
    "        i += 1\n",
    "    return count\n",
    "\n",
    "print(hamming(\"abcde\", \"bcdef\"))\n",
    "print(hamming(\"abcd\", \"abcd\"))"
   ]
  },
  {
   "cell_type": "code",
   "execution_count": null,
   "id": "0cb33d12",
   "metadata": {},
   "outputs": [],
   "source": []
  }
 ],
 "metadata": {
  "kernelspec": {
   "display_name": "Python 3 (ipykernel)",
   "language": "python",
   "name": "python3"
  },
  "language_info": {
   "codemirror_mode": {
    "name": "ipython",
    "version": 3
   },
   "file_extension": ".py",
   "mimetype": "text/x-python",
   "name": "python",
   "nbconvert_exporter": "python",
   "pygments_lexer": "ipython3",
   "version": "3.9.7"
  }
 },
 "nbformat": 4,
 "nbformat_minor": 5
}
