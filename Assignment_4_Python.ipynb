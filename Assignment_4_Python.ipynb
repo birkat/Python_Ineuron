{
 "cells": [
  {
   "cell_type": "code",
   "execution_count": null,
   "id": "6773c6e5",
   "metadata": {},
   "outputs": [],
   "source": [
    "\"\"\"1. What exactly is []?\n",
    "\n",
    "Answer\n",
    "\n",
    "[] - list datatype is stored\n",
    "\n",
    "\"\"\""
   ]
  },
  {
   "cell_type": "code",
   "execution_count": 12,
   "id": "58ef3f75",
   "metadata": {},
   "outputs": [
    {
     "data": {
      "text/plain": [
       "[2, 4, 'hello', 8, 10]"
      ]
     },
     "execution_count": 12,
     "metadata": {},
     "output_type": "execute_result"
    }
   ],
   "source": [
    "\"\"\"2. In a list of values stored in a variable called spam, how would you assign the value \"hello\" as the\n",
    "third value? (Assume [2, 4, 6, 8, 10] are in spam.)\n",
    "\"\"\"\n",
    "spam = [2,4,6,8,10]\n",
    "spam[2]=(\"hello\")\n",
    "spam\n"
   ]
  },
  {
   "cell_type": "code",
   "execution_count": 17,
   "id": "8e7d47ce",
   "metadata": {},
   "outputs": [],
   "source": [
    "\"\"\"Let's pretend the spam includes the list ['a', 'b', 'c', 'd'] \n",
    "for the next three queries.\"\"\"\n",
    "\n",
    "spam=['a','b','c','d']"
   ]
  },
  {
   "cell_type": "code",
   "execution_count": 18,
   "id": "fedb4244",
   "metadata": {},
   "outputs": [
    {
     "data": {
      "text/plain": [
       "'d'"
      ]
     },
     "execution_count": 18,
     "metadata": {},
     "output_type": "execute_result"
    }
   ],
   "source": [
    "\"\"\"3. What is the value of spam[int(int('3' * 2) / 11)]?\"\"\"\n",
    "\n",
    "\n",
    "spam[int(int('3'*2)/11)]  #('3'* 2) means '33', which will be integer after using int, after that divided by  /11  \n",
    "                            #result will be 3. location of spam[3] and value is d \"\"\""
   ]
  },
  {
   "cell_type": "code",
   "execution_count": 19,
   "id": "9d490dc2",
   "metadata": {},
   "outputs": [
    {
     "data": {
      "text/plain": [
       "'d'"
      ]
     },
     "execution_count": 19,
     "metadata": {},
     "output_type": "execute_result"
    }
   ],
   "source": [
    "\"\"\"4. What is the value of spam[-1]?\"\"\"\n",
    "\n",
    "spam[-1]  # move from back direction to front direction because its using slicing with -ve sign"
   ]
  },
  {
   "cell_type": "code",
   "execution_count": 21,
   "id": "7c77d0c2",
   "metadata": {},
   "outputs": [
    {
     "data": {
      "text/plain": [
       "['a', 'b']"
      ]
     },
     "execution_count": 21,
     "metadata": {},
     "output_type": "execute_result"
    }
   ],
   "source": [
    "\"\"\"5. What is the value of spam[:2]?\"\"\"\n",
    "\n",
    "spam[:2] # in slicing first value is not given then by default it will be '0', second value is 2, so it goes from 0 to 1\n",
    "        "
   ]
  },
  {
   "cell_type": "code",
   "execution_count": 1,
   "id": "6d82da08",
   "metadata": {},
   "outputs": [],
   "source": [
    "\"\"\"Let's pretend bacon has the list [3.14,'cat',11,'cat',True] for the next three questions.\"\"\"\n",
    "\n",
    "bacon=[3.14,'cat',11,'cat',True]"
   ]
  },
  {
   "cell_type": "code",
   "execution_count": 2,
   "id": "2da90237",
   "metadata": {},
   "outputs": [
    {
     "data": {
      "text/plain": [
       "1"
      ]
     },
     "execution_count": 2,
     "metadata": {},
     "output_type": "execute_result"
    }
   ],
   "source": [
    "\"\"\"6. What is the value of bacon.index('cat')?\"\"\"\n",
    "\n",
    "bacon.index('cat') # in list if there is repeated value and if we use index function then in index() \n",
    "                    #its first encounter repeated value will be printerd "
   ]
  },
  {
   "cell_type": "code",
   "execution_count": 3,
   "id": "00ba0d7a",
   "metadata": {},
   "outputs": [
    {
     "data": {
      "text/plain": [
       "[3.14, 'cat', 11, 'cat', True, 99]"
      ]
     },
     "execution_count": 3,
     "metadata": {},
     "output_type": "execute_result"
    }
   ],
   "source": [
    "\"\"\"7. How does bacon.append(99) change the look of the list value in bacon?\"\"\"\n",
    "\n",
    "bacon.append(99) # append function add a single item to the existing list,it will not produce new list but adds a one \n",
    "bacon            # new item at last of the original list and increase the list by one item"
   ]
  },
  {
   "cell_type": "code",
   "execution_count": 4,
   "id": "3f651ccc",
   "metadata": {},
   "outputs": [
    {
     "data": {
      "text/plain": [
       "[3.14, 11, 'cat', True, 99]"
      ]
     },
     "execution_count": 4,
     "metadata": {},
     "output_type": "execute_result"
    }
   ],
   "source": [
    "\"\"\"8. How does bacon.remove('cat') change the look of the list in bacon?\"\"\"\n",
    "\n",
    "bacon.remove('cat')  #remove fuction take a single argument and remove it form the list\n",
    "bacon                # if there is repeated item in the list then first encounter repeated item will be remove\n",
    "                    # decerease the the list by one item"
   ]
  },
  {
   "cell_type": "code",
   "execution_count": 1,
   "id": "f1f11705",
   "metadata": {},
   "outputs": [],
   "source": [
    "\"\"\"9. What are the list concatenation and list replication operators?\"\"\"\n",
    "\n",
    "#The operator for list concatenation is +, while the operator for replication is *. \n",
    "#example:\n",
    "\n",
    "a=[1,2,3,4]\n",
    "b=['a','b','c','d']\n"
   ]
  },
  {
   "cell_type": "code",
   "execution_count": 7,
   "id": "c55838e5",
   "metadata": {},
   "outputs": [
    {
     "data": {
      "text/plain": [
       "[1, 2, 3, 4, 'a', 'b', 'c', 'd']"
      ]
     },
     "execution_count": 7,
     "metadata": {},
     "output_type": "execute_result"
    }
   ],
   "source": [
    "c=a+b #use the + operator for concatenation, it produce new list \"c\"\n",
    "c"
   ]
  },
  {
   "cell_type": "code",
   "execution_count": 2,
   "id": "205cc28e",
   "metadata": {},
   "outputs": [
    {
     "data": {
      "text/plain": [
       "[1, 2, 3, 4, 'a', 'b', 'c', 'd']"
      ]
     },
     "execution_count": 2,
     "metadata": {},
     "output_type": "execute_result"
    }
   ],
   "source": [
    "a+=b # using in-place version, it will extend \"a\" list\n",
    "a\n"
   ]
  },
  {
   "cell_type": "code",
   "execution_count": 2,
   "id": "374460f3",
   "metadata": {},
   "outputs": [
    {
     "data": {
      "text/plain": [
       "[1, 2, 3, 4, 1, 2, 3, 4, 1, 2, 3, 4]"
      ]
     },
     "execution_count": 2,
     "metadata": {},
     "output_type": "execute_result"
    }
   ],
   "source": [
    "d=a*3 #using * operator, it will replicated \"a\" 3 times and produce new list \"d\"\n",
    "d"
   ]
  },
  {
   "cell_type": "code",
   "execution_count": 2,
   "id": "bd9c5ad2",
   "metadata": {},
   "outputs": [
    {
     "data": {
      "text/plain": [
       "[1, 2, 3, 4, 1, 2, 3, 4, 1, 2, 3, 4]"
      ]
     },
     "execution_count": 2,
     "metadata": {},
     "output_type": "execute_result"
    }
   ],
   "source": [
    "a*=3  # using in-place version, it will extend \"a\" list\n",
    "a"
   ]
  },
  {
   "cell_type": "code",
   "execution_count": 3,
   "id": "56ece8b1",
   "metadata": {},
   "outputs": [
    {
     "name": "stdout",
     "output_type": "stream",
     "text": [
      "append\n",
      "[1, 2, 3, 4, 5]\n"
     ]
    }
   ],
   "source": [
    "\"\"\"10. What is difference between the list methods append() and insert()?\"\"\"\n",
    "# append() added a single item to end of the original list\n",
    "#e.g\n",
    "l=[1,2,3,4]\n",
    "print(\"append\")\n",
    "l.append(5)\n",
    "print(l)"
   ]
  },
  {
   "cell_type": "code",
   "execution_count": 5,
   "id": "453fa5c3",
   "metadata": {},
   "outputs": [
    {
     "name": "stdout",
     "output_type": "stream",
     "text": [
      "insert\n",
      "[1, 2, 'sudh', 3, 4]\n"
     ]
    }
   ],
   "source": [
    "#insert() allows us to add specific item to the specific index\n",
    "#e.g\n",
    "l=[1,2,3,4]\n",
    "print(\"insert\")\n",
    "l.insert(2,\"sudh\")\n",
    "print(l)"
   ]
  },
  {
   "cell_type": "code",
   "execution_count": 11,
   "id": "e65cdc6a",
   "metadata": {},
   "outputs": [
    {
     "data": {
      "text/plain": [
       "[1, 2, 3, 4, 5]"
      ]
     },
     "execution_count": 11,
     "metadata": {},
     "output_type": "execute_result"
    }
   ],
   "source": [
    "\"\"\"11. What are the two methods for removing items from a list?\"\"\"\n",
    "\n",
    "l=[1,2,3,4,5,6]\n",
    "\n",
    "#pop()\n",
    "#remove()\n",
    "\n",
    "l.pop() #it will remove last item of the list \n",
    "l"
   ]
  },
  {
   "cell_type": "code",
   "execution_count": 14,
   "id": "1460247e",
   "metadata": {},
   "outputs": [
    {
     "data": {
      "text/plain": [
       "[1, 2, 4, 5, 6]"
      ]
     },
     "execution_count": 14,
     "metadata": {},
     "output_type": "execute_result"
    }
   ],
   "source": [
    "l=[1,2,3,4,5,6]\n",
    "l.pop(2) # if argument is given tehn it will remove the item of the given index,it accept one argument\n",
    "l"
   ]
  },
  {
   "cell_type": "code",
   "execution_count": 19,
   "id": "1f4b525c",
   "metadata": {},
   "outputs": [
    {
     "data": {
      "text/plain": [
       "[1, 3, 4, 5, 6]"
      ]
     },
     "execution_count": 19,
     "metadata": {},
     "output_type": "execute_result"
    }
   ],
   "source": [
    "l=[1,2,3,4,5,6]\n",
    "l.remove(2) # it will delete 2 form 1 index,one argument is necessary\n",
    "l"
   ]
  },
  {
   "cell_type": "code",
   "execution_count": 4,
   "id": "e2365384",
   "metadata": {},
   "outputs": [
    {
     "data": {
      "text/plain": [
       "\"The similarity between Lists and Strings is that both are sequences.A list is a sequence of items, where each item could\\nbe anything (an integer, a float, a string, etc). Both strings and lists have lengths: a string's length is the number of \\ncharacters in the string, a list's length is the number of items in the list. The differences between them are:Lists are\\nmutable but Strings are immutable.\""
      ]
     },
     "execution_count": 4,
     "metadata": {},
     "output_type": "execute_result"
    }
   ],
   "source": [
    "\"\"\"12. Describe how list values and string values are identical.\"\"\"\n",
    "\n",
    "\"\"\"The similarity between Lists and Strings is that both are sequences.A list is a sequence of items, where each item could\n",
    "be anything (an integer, a float, a string, etc). Both strings and lists have lengths: a string's length is the number of \n",
    "characters in the string, a list's length is the number of items in the list. The differences between them are:Lists are\n",
    "mutable but Strings are immutable.\"\"\""
   ]
  },
  {
   "cell_type": "code",
   "execution_count": null,
   "id": "290ec3a3",
   "metadata": {},
   "outputs": [],
   "source": [
    "\"\"\"13. What's the difference between tuples and lists?\"\"\"\n",
    "\n",
    "# Lists are mutable,Tuples are immutable\n",
    "# Lists consume more memory, Tuple consume less memory as compared to the list\n",
    "# Lists have several built-in methods, Tuple does not have many built-in methods\n",
    "# The list is better for performing operations, such as insertion and deletion,\n",
    "# Tuple data type is appropriate for accessing the elements"
   ]
  },
  {
   "cell_type": "code",
   "execution_count": 9,
   "id": "219b97ee",
   "metadata": {},
   "outputs": [
    {
     "data": {
      "text/plain": [
       "(42,)"
      ]
     },
     "execution_count": 9,
     "metadata": {},
     "output_type": "execute_result"
    }
   ],
   "source": [
    "\"\"\"14. How do you type a tuple value that only contains the integer 42?\"\"\"\n",
    "\n",
    "tuple=(42,) #if a tuple value that have just only contain integer than (,) is mandatory\n",
    "tuple"
   ]
  },
  {
   "cell_type": "code",
   "execution_count": 4,
   "id": "f1500697",
   "metadata": {},
   "outputs": [
    {
     "data": {
      "text/plain": [
       "[45, 67, 89, 23]"
      ]
     },
     "execution_count": 4,
     "metadata": {},
     "output_type": "execute_result"
    }
   ],
   "source": [
    "\"\"\"15. How do you get a list value's tuple form? How do you get a tuple value's list form?\"\"\"\n",
    "\n",
    "t=(45,67,89,23)\n",
    "list(t)  #tuple value in list form"
   ]
  },
  {
   "cell_type": "code",
   "execution_count": 5,
   "id": "a5351a07",
   "metadata": {},
   "outputs": [
    {
     "data": {
      "text/plain": [
       "(1, 2, 3, 4, 56)"
      ]
     },
     "execution_count": 5,
     "metadata": {},
     "output_type": "execute_result"
    }
   ],
   "source": [
    "l=[1,2,3,4,56]\n",
    "tuple(l)   # list value in tuple form"
   ]
  },
  {
   "cell_type": "code",
   "execution_count": null,
   "id": "2f1cecfc",
   "metadata": {},
   "outputs": [],
   "source": [
    "\"\"\"16. Variables that \"contain\" list values are not necessarily lists themselves. Instead, what do they\n",
    "contain?\"\"\"\n",
    "\n",
    "\n",
    "\"\"\"Variables will contain references to list values rather than list values themselves. But for strings and integer values,\n",
    "variables simply contain the string or integer value.\"\"\""
   ]
  },
  {
   "cell_type": "code",
   "execution_count": null,
   "id": "74358a47",
   "metadata": {},
   "outputs": [],
   "source": [
    "\"\"\"17. How do you distinguish between copy.copy() and copy.deepcopy()?\"\"\"\n",
    "\n",
    "\n",
    "\"\"\"-A shallow copy constructs a new compound object and then (to the extent possible) inserts references into it to the \n",
    "objects found in the original.A deep copy constructs a new compound object and then, recursively, inserts copies into it \n",
    "of the objects found in the original.\"\"\""
   ]
  }
 ],
 "metadata": {
  "kernelspec": {
   "display_name": "Python 3 (ipykernel)",
   "language": "python",
   "name": "python3"
  },
  "language_info": {
   "codemirror_mode": {
    "name": "ipython",
    "version": 3
   },
   "file_extension": ".py",
   "mimetype": "text/x-python",
   "name": "python",
   "nbconvert_exporter": "python",
   "pygments_lexer": "ipython3",
   "version": "3.9.7"
  }
 },
 "nbformat": 4,
 "nbformat_minor": 5
}
