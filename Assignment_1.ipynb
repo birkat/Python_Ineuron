{
 "cells": [
  {
   "cell_type": "raw",
   "id": "e532a04e",
   "metadata": {},
   "source": [
    "1. In the below elements which of them are values or an expression? eg:- values can be integer or string and expressions will be mathematical operators.\n",
    "\n",
    "* is mathematical operators\n",
    "\n",
    "'hello' is values\n",
    "\n",
    "-87.8 is mathematical operators\n",
    "\n",
    "- is mathematical operators\n",
    "\n",
    "/ is mathematical operators\n",
    "\n",
    "6 is values"
   ]
  },
  {
   "cell_type": "raw",
   "id": "9dd14298",
   "metadata": {},
   "source": [
    "2. What is the difference between string and variable?\n",
    "\n",
    "Answer:\n",
    "\n",
    "A variable is basically the name of the location in primary memory, the name is choosen by us. A variable can store string, integer, float, complex numbers, boolen etc.\n",
    "\n",
    "A string is the values inside the quotes e.g(\"sudh\")\n",
    "\n",
    "A variable can store srting but string cannot store variable.\n"
   ]
  },
  {
   "cell_type": "raw",
   "id": "789860ae",
   "metadata": {},
   "source": [
    "3. Describe three different data types.\n",
    "\n",
    "Answer:\n",
    "\n",
    "i.  Integer: Whole number or without decimal e.g 2 3 400 40 70 56\n",
    "ii. Float:   Number with decimal values e.g 4.5  6.7  1.234  456.789  0.678\n",
    "iii. String: combination of one or more characters e.g \"sudh\"  \"ineuron\"  \"school\"  \"tp_link\""
   ]
  },
  {
   "cell_type": "raw",
   "id": "fbdc947f",
   "metadata": {},
   "source": [
    "4. What is an expression made up of? What do all expressions do?\n",
    "\n",
    "Answer:\n",
    "\n",
    "An expression is an instruction that combines values and operators and always evaluates down to a single value. For example,   2 + 4. The 2 and 4 are integer values and the + is the mathematical operator. This expression evaluates down to the single integer value 6. Expressions are combinations of values and operators always evaluate down to a single value."
   ]
  },
  {
   "cell_type": "raw",
   "id": "d1c36242",
   "metadata": {},
   "source": [
    "5. This assignment statements, like spam = 10. What is the difference between an expression and a statement?\n",
    "\n",
    "Answer:\n",
    "\n",
    "An expression is any section of the code that evaluates to a value or expressions are combinations of values and operators always evaluate down to a single value. e.g where spam is variable and 10 is value, 2 + 3 or 2 == 2. A statement is a complete line of code that performs some action. Statement is the unit code which can be interpreted and won’t produce any error and will do it’s job, e.g printf() or spam=2.\n"
   ]
  },
  {
   "cell_type": "raw",
   "id": "f0bb283a",
   "metadata": {},
   "source": [
    "6. After running the following code, what does the variable bacon contain?\n",
    "bacon = 22\n",
    "bacon + 1\n",
    "\n",
    "Answer:\n",
    "\n",
    "bacon contain 23"
   ]
  },
  {
   "cell_type": "raw",
   "id": "4e65c9c8",
   "metadata": {},
   "source": [
    "7. What should the values of the following two terms be?\n",
    "\n",
    "'spam' + 'spamspam'\n",
    "\n",
    "Answer: 'spamspamspam'\n",
    "\n",
    "'spam' * 3\n",
    "\n",
    "Answer: 'spamspamspam'"
   ]
  },
  {
   "cell_type": "raw",
   "id": "a5993a71",
   "metadata": {},
   "source": [
    "8. Why is eggs a valid variable name while 100 is invalid?\n",
    "\n",
    "Answer:\n",
    "\n",
    "In python there is a rule that, a variable can have any length and consists of any letters like uppercase or lowercase and even a _underscore letter and digits too but there is restriction that variable cannot have first letter digits. so, eggs is valid variabe name and 100 is invalid.\n"
   ]
  },
  {
   "cell_type": "raw",
   "id": "39ddd809",
   "metadata": {},
   "source": [
    "9. What three functions can be used to get the integer, floating-point number, or string version of a value?\n",
    "\n",
    "Answer:\n",
    "\n",
    " int(), float(), and str() "
   ]
  },
  {
   "cell_type": "raw",
   "id": "76ead87e",
   "metadata": {},
   "source": [
    "10. Why does this expression cause an error? How can you fix it?\n",
    "'I have eaten ' + 99 + ' burritos.'\n",
    "\n",
    "Answer:\n",
    "\n",
    "can only concatenate str (not \"int\") to str\n",
    "\n",
    "we can fix by changing integer 99 to string\n",
    "'I have eaten ' + '99' + ' burritos.'"
   ]
  },
  {
   "cell_type": "code",
   "execution_count": 18,
   "id": "6374288a",
   "metadata": {},
   "outputs": [
    {
     "data": {
      "text/plain": [
       "'I have eaten 99 burritos.'"
      ]
     },
     "execution_count": 18,
     "metadata": {},
     "output_type": "execute_result"
    }
   ],
   "source": [
    "'I have eaten ' + '99' + ' burritos.'"
   ]
  },
  {
   "cell_type": "code",
   "execution_count": null,
   "id": "e4860493",
   "metadata": {},
   "outputs": [],
   "source": []
  }
 ],
 "metadata": {
  "kernelspec": {
   "display_name": "Python 3 (ipykernel)",
   "language": "python",
   "name": "python3"
  },
  "language_info": {
   "codemirror_mode": {
    "name": "ipython",
    "version": 3
   },
   "file_extension": ".py",
   "mimetype": "text/x-python",
   "name": "python",
   "nbconvert_exporter": "python",
   "pygments_lexer": "ipython3",
   "version": "3.9.7"
  }
 },
 "nbformat": 4,
 "nbformat_minor": 5
}
