{
 "cells": [
  {
   "cell_type": "code",
   "execution_count": 3,
   "id": "6cbeba0d",
   "metadata": {},
   "outputs": [
    {
     "data": {
      "text/plain": [
       "'one neuron is a part of \"ineuron\" by sudh'"
      ]
     },
     "execution_count": 3,
     "metadata": {},
     "output_type": "execute_result"
    }
   ],
   "source": [
    "\"\"\"1. What are escape characters, and how do you use them?\"\"\"\n",
    "\n",
    "\"\"\"\n",
    "An escape characters are used to insert characters that are illegal in a string, use an escape character.An escape \n",
    "character is a backslash \\ followed by the character you want to insert.\n",
    "\"\"\"\n",
    "\n",
    "s=\"one neuron is a part of \\\"ineuron\\\" by sudh\"\n",
    "s\n"
   ]
  },
  {
   "cell_type": "code",
   "execution_count": null,
   "id": "c5b15374",
   "metadata": {},
   "outputs": [],
   "source": [
    "\"\"\"2. What do the escape characters n and t stand for?\"\"\"\n",
    "\n",
    "\"\"\" \n",
    "\"\\t\" is a tab, \"\\n\" is a newline\n",
    "\n",
    "\"\"\""
   ]
  },
  {
   "cell_type": "code",
   "execution_count": 4,
   "id": "93766955",
   "metadata": {},
   "outputs": [
    {
     "data": {
      "text/plain": [
       "'one neuron is a part of \"ineuron\" by sudh'"
      ]
     },
     "execution_count": 4,
     "metadata": {},
     "output_type": "execute_result"
    }
   ],
   "source": [
    "\"\"\"3. What is the way to include backslash characters in a string?\"\"\"\n",
    "\n",
    "s=\"one neuron is a part of \\\"ineuron\\\" by sudh\"\n",
    "s"
   ]
  },
  {
   "cell_type": "code",
   "execution_count": 1,
   "id": "56954ee6",
   "metadata": {},
   "outputs": [
    {
     "data": {
      "text/plain": [
       "\"How's Moving Castle\""
      ]
     },
     "execution_count": 1,
     "metadata": {},
     "output_type": "execute_result"
    }
   ],
   "source": [
    "\"\"\"4. The string \"How's Moving Castle\" is a correct value. Why isn't the single quote character in the\n",
    "word Howl's not escaped a problem?\"\"\"\n",
    "\n",
    "s=\"How's Moving Castle\"\n",
    "s\n",
    "\n",
    "#Answer:  double quotes is used in begining of the string and end of the string "
   ]
  },
  {
   "cell_type": "code",
   "execution_count": null,
   "id": "2476aa17",
   "metadata": {},
   "outputs": [],
   "source": [
    "\"\"\"5. How do you write a string of newlines if you don't want to use the n character?\"\"\"\n",
    "\n",
    "\"\"\"\n",
    "Answer:\n",
    "Multiline string allows us to use new line without using \"\\n\"\n",
    "\n",
    "\"\"\"\n"
   ]
  },
  {
   "cell_type": "code",
   "execution_count": null,
   "id": "f8b6167a",
   "metadata": {},
   "outputs": [],
   "source": [
    "\"\"\"6. What are the values of the given expressions?\n",
    "\n",
    "'Hello, world!'[1]       'e'\n",
    "'Hello, world!'[0:5]     'Hello'\n",
    "'Hello, world!'[:5]      'Hello'\n",
    "'Hello, world!'[3:]      'lo, world!'\n",
    "\n",
    "\"\"\""
   ]
  },
  {
   "cell_type": "code",
   "execution_count": null,
   "id": "1d12e096",
   "metadata": {},
   "outputs": [],
   "source": [
    "\"\"\"7. What are the values of the following expressions?\n",
    "\"Hello\".upper()             'HELLO'\n",
    "\"Hello\".upper().isupper()    True\n",
    "\"Hello\".upper().lower()     'hello'\n",
    "\n",
    "\"\"\""
   ]
  },
  {
   "cell_type": "code",
   "execution_count": null,
   "id": "e37885d3",
   "metadata": {},
   "outputs": [],
   "source": [
    "\"\"\"8. What are the values of the following expressions?\n",
    "\n",
    "'Remember, remember, the fifth of July.'.split()\n",
    "'-'.join('There can only one.'.split())\n",
    "\"\"\""
   ]
  },
  {
   "cell_type": "code",
   "execution_count": 16,
   "id": "aec1dc7c",
   "metadata": {},
   "outputs": [
    {
     "data": {
      "text/plain": [
       "['Remember,', 'remember,', 'the', 'fifth', 'of', 'July.']"
      ]
     },
     "execution_count": 16,
     "metadata": {},
     "output_type": "execute_result"
    }
   ],
   "source": [
    "'Remember, remember, the fifth of July.'.split()\n"
   ]
  },
  {
   "cell_type": "code",
   "execution_count": 20,
   "id": "d9f2ba70",
   "metadata": {},
   "outputs": [
    {
     "data": {
      "text/plain": [
       "'There-can-be-only-one.'"
      ]
     },
     "execution_count": 20,
     "metadata": {},
     "output_type": "execute_result"
    }
   ],
   "source": [
    "'-'.join('There can be only one.'.split())"
   ]
  },
  {
   "cell_type": "code",
   "execution_count": null,
   "id": "11b8cca7",
   "metadata": {},
   "outputs": [],
   "source": [
    "\"\"\"9. What are the methods for right-justifying, left-justifying, and centering a string?\n",
    "\n",
    "rjust(), ljust(), and center() \n",
    "\n",
    "\"\"\""
   ]
  },
  {
   "cell_type": "code",
   "execution_count": null,
   "id": "ec4ba899",
   "metadata": {},
   "outputs": [],
   "source": [
    "\"\"\"10. What is the best way to remove whitespace characters from the start or end?\n",
    "\n",
    "lstrip() and rstrip() \n",
    "\n",
    "\"\"\""
   ]
  }
 ],
 "metadata": {
  "kernelspec": {
   "display_name": "Python 3 (ipykernel)",
   "language": "python",
   "name": "python3"
  },
  "language_info": {
   "codemirror_mode": {
    "name": "ipython",
    "version": 3
   },
   "file_extension": ".py",
   "mimetype": "text/x-python",
   "name": "python",
   "nbconvert_exporter": "python",
   "pygments_lexer": "ipython3",
   "version": "3.9.7"
  }
 },
 "nbformat": 4,
 "nbformat_minor": 5
}
