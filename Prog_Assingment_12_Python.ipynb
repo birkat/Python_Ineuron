{
 "cells": [
  {
   "cell_type": "code",
   "execution_count": 4,
   "id": "34f711c6",
   "metadata": {},
   "outputs": [
    {
     "name": "stdout",
     "output_type": "stream",
     "text": [
      "Enter number of element: 2\n",
      "Enter Key: A\n",
      "Enter Value: 1,2,3,4\n",
      "Enter Key: B\n",
      "Enter Value: 1,4,5,6\n",
      "{'A': '1,2,3,4', 'B': '1,4,5,6'}\n",
      "[',', '1', '2', '3', '4', '5', '6']\n"
     ]
    }
   ],
   "source": [
    "#1. Write a Python program to Extract Unique values dictionary values?\n",
    "\n",
    "a = dict()\n",
    "dic_elem = int(input(\"Enter number of element: \"))\n",
    "\n",
    "for i in range(dic_elem):\n",
    "    key = input(\"Enter Key: \")\n",
    "    val = input(\"Enter Value: \")\n",
    "    a[key] = val\n",
    "    \n",
    "print(a)\n",
    "\n",
    "h = list(sorted({e for i in a.values() for e in i}))\n",
    "print(h)"
   ]
  },
  {
   "cell_type": "code",
   "execution_count": 9,
   "id": "19e8b964",
   "metadata": {},
   "outputs": [
    {
     "name": "stdout",
     "output_type": "stream",
     "text": [
      "Enter number of element: 4\n",
      "Enter Key: A\n",
      "Enter Value: 20\n",
      "Enter Key: B\n",
      "Enter Value: 30\n",
      "Enter Key: C\n",
      "Enter Value: 10\n",
      "Enter Key: D\n",
      "Enter Value: 15\n",
      "{'A': '20', 'B': '30', 'C': '10', 'D': '15'}\n",
      "sum of all items in a dictionary:  75\n"
     ]
    }
   ],
   "source": [
    "#2. Write a Python program to find the sum of all items in a dictionary?\n",
    "\n",
    "item = dict()\n",
    "elem_size = int(input(\"Enter number of element: \"))\n",
    "\n",
    "for i in range(elem_size):\n",
    "    key1 = input(\"Enter Key: \")\n",
    "    val1 = input(\"Enter Value: \")\n",
    "    item[key1] = val1\n",
    "\n",
    "print(item)\n",
    "sum = 0\n",
    "for i in item.values():\n",
    "    sum = sum + int(i)\n",
    "print(\"sum of all items in a dictionary: \",sum)"
   ]
  },
  {
   "cell_type": "code",
   "execution_count": 37,
   "id": "bb90873e",
   "metadata": {},
   "outputs": [
    {
     "name": "stdout",
     "output_type": "stream",
     "text": [
      "Enter size of Dictionary one: 2\n",
      "Enter Key: A\n",
      "Enter vlaue: 1,2,3\n",
      "Enter Key: B\n",
      "Enter vlaue: (4,5,6)\n",
      "Enter size of Dictionary Two: 2\n",
      "Enter Key: C\n",
      "Enter vlaue: sudip\n",
      "Enter Key: D\n",
      "Enter vlaue: 8,9,0\n",
      "{'A': '1,2,3', 'B': '(4,5,6)', 'C': 'sudip', 'D': '8,9,0'}\n"
     ]
    }
   ],
   "source": [
    "#3. Write a Python program to Merging two Dictionaries?\n",
    "\n",
    "def ent_elem(m1):\n",
    "    m = dict()\n",
    "    for i in range(m1):\n",
    "        key2 = input(\"Enter Key: \")\n",
    "        value2= input(\"Enter vlaue: \")\n",
    "        m[key2] = value2\n",
    "    return m\n",
    "\n",
    "m_size1 = int(input(\"Enter size of Dictionary one: \"))\n",
    "dic1 = ent_elem(m_size1)\n",
    "\n",
    "m_size2 = int(input(\"Enter size of Dictionary Two: \"))\n",
    "dic2 = ent_elem(m_size2)\n",
    "\n",
    "dic1.update(dic2)\n",
    "\n",
    "print(dic1)"
   ]
  },
  {
   "cell_type": "code",
   "execution_count": 39,
   "id": "d1e53fbd",
   "metadata": {},
   "outputs": [
    {
     "name": "stdout",
     "output_type": "stream",
     "text": [
      "The dictionary is : \n",
      "{'month_num': [1, 2, 3, 4, 5, 6], 'name_of_month': ['Jan', 'Feb', 'March', 'Apr', 'May', 'June']}\n",
      "The flattened dictionary is: \n",
      "{1: 'Jan', 2: 'Feb', 3: 'March', 4: 'Apr', 5: 'May', 6: 'June'}\n"
     ]
    }
   ],
   "source": [
    "#4. Write a Python program to convert key-values list to flat dictionary? \n",
    "\n",
    "\n",
    "my_dict = {'month_num' : [1, 2, 3, 4, 5, 6], 'name_of_month' : ['Jan', 'Feb', 'March', 'Apr', 'May', 'June']}\n",
    "\n",
    "print(\"The dictionary is : \")\n",
    "print(my_dict)\n",
    "\n",
    "my_result = dict(zip(my_dict['month_num'], my_dict['name_of_month']))\n",
    "\n",
    "print(\"The flattened dictionary is: \")\n",
    "print(my_result)"
   ]
  },
  {
   "cell_type": "code",
   "execution_count": 3,
   "id": "2aa09c9b",
   "metadata": {},
   "outputs": [
    {
     "name": "stdout",
     "output_type": "stream",
     "text": [
      "Enter size of Dictionary one: 2\n",
      "Enter Key: 1\n",
      "Enter vlaue: sudh\n",
      "Enter Key: 2\n",
      "Enter vlaue: 1,2,3\n",
      "Enter size of Dictionary Two: 1\n",
      "Enter Key: 3\n",
      "Enter vlaue: ineuron\n",
      "{'3': 'ineuron', '1': 'sudh', '2': '1,2,3'}\n"
     ]
    }
   ],
   "source": [
    "#5. Write a Python program to insertion at the beginning in OrderedDict?\n",
    "\n",
    "def ent_elem(m1):\n",
    "    m = dict()\n",
    "    for i in range(m1):\n",
    "        key2 = input(\"Enter Key: \")\n",
    "        value2= input(\"Enter vlaue: \")\n",
    "        m[key2] = value2\n",
    "    return m\n",
    "\n",
    "m_size1 = int(input(\"Enter size of Dictionary one: \"))\n",
    "dic1 = ent_elem(m_size1)\n",
    "\n",
    "m_size2 = int(input(\"Enter size of Dictionary Two: \"))\n",
    "dic2 = ent_elem(m_size2)\n",
    "\n",
    "dic2.update(dic1)\n",
    "\n",
    "print(dic2)"
   ]
  },
  {
   "cell_type": "code",
   "execution_count": 1,
   "id": "803cf752",
   "metadata": {},
   "outputs": [
    {
     "name": "stdout",
     "output_type": "stream",
     "text": [
      "Enter string: string ordered\n",
      "Enter match words: toe\n",
      "True\n"
     ]
    }
   ],
   "source": [
    "#6. Write a Python program to check order of character in string using OrderedDict()?\n",
    "\n",
    "from collections import OrderedDict\n",
    "\n",
    "def order_check(dict_string, partten):\n",
    "    dict = OrderedDict.fromkeys(dict_string)\n",
    "    \n",
    "    plen = 0\n",
    "    for keys, values in dict.items():\n",
    "        if keys == partten[plen]:\n",
    "            plen = plen + 1\n",
    "            \n",
    "        if plen == len(partten):\n",
    "            return True\n",
    "        \n",
    "    return False\n",
    "\n",
    "dict_string = input(\"Enter string: \")\n",
    "partten = input(\"Enter match words: \")\n",
    "\n",
    "print(order_check(dict_string, partten))"
   ]
  },
  {
   "cell_type": "code",
   "execution_count": 4,
   "id": "89363701",
   "metadata": {},
   "outputs": [
    {
     "name": "stdout",
     "output_type": "stream",
     "text": [
      "Enter size of element: 5\n",
      "Enter keys: 4\n",
      "Enter values: (3,4,5,6)\n",
      "Enter keys: 1\n",
      "Enter values: sudh\n",
      "Enter keys: 3\n",
      "Enter values: 67\n",
      "Enter keys: 8\n",
      "Enter values: 45\n",
      "Enter keys: 6\n",
      "Enter values: cat\n",
      "{'4': '(3,4,5,6)', '1': 'sudh', '3': '67', '8': '45', '6': 'cat'}\n",
      "Keys are\n",
      "1 3 4 6 8 "
     ]
    }
   ],
   "source": [
    "#7. Write a Python program to sort Python Dictionaries by Key or Value?\n",
    "\n",
    "def sort_kv(str_list):\n",
    "    print(\"Keys are\")\n",
    "    for i in sorted(str_list.keys()):\n",
    "        print(i, end=\" \")\n",
    "\n",
    "str_list = dict()\n",
    "\n",
    "p_size = int(input(\"Enter size of element: \"))\n",
    "for i in range(p_size):\n",
    "    keys4 = input(\"Enter keys: \")\n",
    "    values4 = input(\"Enter values: \")\n",
    "    str_list[keys4] = values4\n",
    "\n",
    "print(str_list)\n",
    "\n",
    "sort_kv(str_list)"
   ]
  },
  {
   "cell_type": "code",
   "execution_count": null,
   "id": "52a4a194",
   "metadata": {},
   "outputs": [],
   "source": []
  }
 ],
 "metadata": {
  "kernelspec": {
   "display_name": "Python 3 (ipykernel)",
   "language": "python",
   "name": "python3"
  },
  "language_info": {
   "codemirror_mode": {
    "name": "ipython",
    "version": 3
   },
   "file_extension": ".py",
   "mimetype": "text/x-python",
   "name": "python",
   "nbconvert_exporter": "python",
   "pygments_lexer": "ipython3",
   "version": "3.9.7"
  }
 },
 "nbformat": 4,
 "nbformat_minor": 5
}
