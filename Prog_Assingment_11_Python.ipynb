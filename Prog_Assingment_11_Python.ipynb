{
 "cells": [
  {
   "cell_type": "code",
   "execution_count": 23,
   "id": "bb7262be",
   "metadata": {},
   "outputs": [
    {
     "name": "stdout",
     "output_type": "stream",
     "text": [
      "Enter sentences: How to submit an assignment Tech neuron\n",
      "Enter lenght of k: 3\n",
      "['submit', 'assignment', 'Tech', 'neuron']\n"
     ]
    }
   ],
   "source": [
    "#1. Write a Python program to find words which are greater than given length k?\n",
    "\n",
    "w_string = input(\"Enter sentences: \")\n",
    "k_num = int(input(\"Enter lenght of k: \"))\n",
    "list_str = w_string.split()\n",
    "\n",
    "str_res = []\n",
    "for i in range(0,len(list_str)):\n",
    "    if len(list_str[i]) > k_num:\n",
    "        str_res.append(list_str[i])\n",
    "print(str_res)\n",
    "        "
   ]
  },
  {
   "cell_type": "code",
   "execution_count": 39,
   "id": "610bd81b",
   "metadata": {},
   "outputs": [
    {
     "name": "stdout",
     "output_type": "stream",
     "text": [
      "Enter string: Pythonprogram\n",
      "Enter number of i-th: 5\n",
      "Pythnprogram\n"
     ]
    }
   ],
   "source": [
    "#2. Write a Python program for removing i-th character from a string?\n",
    "\n",
    "def remove_char(c_string, i_num):\n",
    "    a = c_string[ :i_num]\n",
    "    b = c_string[i_num+1: ]\n",
    "    return a+b\n",
    "\n",
    "c_string = input(\"Enter string: \")\n",
    "i_num = int(input(\"Enter number of i-th: \"))\n",
    "\n",
    "print(remove_char(c_string, i_num-1))\n"
   ]
  },
  {
   "cell_type": "code",
   "execution_count": 43,
   "id": "4e77dc9e",
   "metadata": {},
   "outputs": [
    {
     "name": "stdout",
     "output_type": "stream",
     "text": [
      "Enter sentencesPython program to split and join a string\n",
      "split:  ['Python', 'program', 'to', 'split', 'and', 'join', 'a', 'string']\n",
      "join:  Python program to split and join a string\n"
     ]
    }
   ],
   "source": [
    "#3. Write a Python program to split and join a string?\n",
    "\n",
    "sj_string = input(\"Enter sentences\")\n",
    "\n",
    "sp_sen = sj_string.split()\n",
    "jo_sen = \" \".join(sp_sen)\n",
    "\n",
    "print(\"split: \",sp_sen)\n",
    "print(\"join: \",jo_sen)\n"
   ]
  },
  {
   "cell_type": "code",
   "execution_count": 48,
   "id": "be481d19",
   "metadata": {},
   "outputs": [
    {
     "name": "stdout",
     "output_type": "stream",
     "text": [
      "checking if a given number is binery sting or not: \n",
      "Enter: 01010110001111\n",
      "01010110001111 is Binery String\n"
     ]
    }
   ],
   "source": [
    "#4. Write a Python to check if a given string is binary string or not?\n",
    "\n",
    "def binery_str(b_string):\n",
    "    binery = \"01\"\n",
    "    count = 0\n",
    "    \n",
    "    for i in b_string:\n",
    "        if i not in binery:\n",
    "            count = 1\n",
    "            break\n",
    "        else:\n",
    "            pass\n",
    "            \n",
    "    if count == 1:\n",
    "        print(f\"{b_string} is not Binery String\")\n",
    "    else:\n",
    "        print(f\"{b_string} is Binery String\")\n",
    "\n",
    "print(\"checking if a given number is binery sting or not: \")\n",
    "\n",
    "b_string = input(\"Enter: \")\n",
    "\n",
    "binery_str(b_string)\n",
    "\n"
   ]
  },
  {
   "cell_type": "code",
   "execution_count": 72,
   "id": "617139bf",
   "metadata": {},
   "outputs": [
    {
     "name": "stdout",
     "output_type": "stream",
     "text": [
      "Enter first string: uncommon words from two Strings\n",
      "Enter second sting: Python program to find uncommon words \n",
      " from two Strings Python program to find\n"
     ]
    }
   ],
   "source": [
    "#5. Write a Python program to find uncommon words from two Strings?\n",
    "\n",
    "def uncomm_words(fst_string, sec_string):\n",
    "    first = fst_string.split()\n",
    "    second = sec_string.split()\n",
    "    uncommon = \"\"\n",
    "    for i in first:\n",
    "        if i not in second:\n",
    "                uncommon = uncommon + \" \" + i\n",
    "    for j in second:\n",
    "        if j not in first:\n",
    "                uncommon = uncommon + \" \" + j\n",
    "    print(uncommon)\n",
    "\n",
    "fst_string = input(\"Enter first string: \")\n",
    "sec_string = input(\"Enter second sting: \")\n",
    "\n",
    "uncomm_words(fst_string, sec_string)\n"
   ]
  },
  {
   "cell_type": "code",
   "execution_count": 74,
   "id": "0d53bf6f",
   "metadata": {},
   "outputs": [
    {
     "name": "stdout",
     "output_type": "stream",
     "text": [
      "Enter string: duplicate characters\n",
      "['c', 'a', 't', 'e', 'r']\n"
     ]
    }
   ],
   "source": [
    "# 6. Write a Python to find all duplicate characters in string?\n",
    "\n",
    "def dup_char(d):\n",
    "    duplicate = []\n",
    "    for i in d:\n",
    "        if d.count(i) > 1:\n",
    "            if i not in duplicate:\n",
    "                duplicate.append(i)\n",
    "    return duplicate\n",
    "\n",
    "ent_string = input(\"Enter string: \")\n",
    "\n",
    "print(dup_char(ent_string))\n"
   ]
  },
  {
   "cell_type": "code",
   "execution_count": 92,
   "id": "022fbaae",
   "metadata": {},
   "outputs": [
    {
     "name": "stdout",
     "output_type": "stream",
     "text": [
      "Enter string: $peci@l ch@r@ct*r!!\n",
      "string contains any special character\n"
     ]
    }
   ],
   "source": [
    "#7. Write a Python Program to check if a string contains any special character?\n",
    "\n",
    "def spec_char(sp):\n",
    "    count = 0\n",
    "    special_char = ('@ _ ! # $ % ^ & * ( ) < > ? / \\ | { } ~ :' )\n",
    "    \n",
    "    for i in sp:\n",
    "        if i in special_char:\n",
    "            count = 1\n",
    "            break\n",
    "    if count == 1:\n",
    "        print(\"string contains any special character\")\n",
    "    else:\n",
    "        print(\"string does not have any special character\")\n",
    "\n",
    "sp = input(\"Enter string: \")\n",
    "\n",
    "spec_char(sp)"
   ]
  },
  {
   "cell_type": "code",
   "execution_count": null,
   "id": "dd70e1bc",
   "metadata": {},
   "outputs": [],
   "source": []
  }
 ],
 "metadata": {
  "kernelspec": {
   "display_name": "Python 3 (ipykernel)",
   "language": "python",
   "name": "python3"
  },
  "language_info": {
   "codemirror_mode": {
    "name": "ipython",
    "version": 3
   },
   "file_extension": ".py",
   "mimetype": "text/x-python",
   "name": "python",
   "nbconvert_exporter": "python",
   "pygments_lexer": "ipython3",
   "version": "3.9.7"
  }
 },
 "nbformat": 4,
 "nbformat_minor": 5
}
