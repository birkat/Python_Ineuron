{
 "cells": [
  {
   "cell_type": "code",
   "execution_count": 47,
   "id": "ffd345eb",
   "metadata": {},
   "outputs": [
    {
     "name": "stdout",
     "output_type": "stream",
     "text": [
      "Enter nmuber: 25\n",
      "27 is not a Disarium Number\n"
     ]
    }
   ],
   "source": [
    "#1. Write a Python program to check if the given number is a Disarium Number?\n",
    "\n",
    "num = int(input(\"Enter nmuber: \"))\n",
    "l = len(str(num))\n",
    "n = num\n",
    "rem = 0\n",
    "add = 0\n",
    "\n",
    "while (n > 0):\n",
    "    rem = n % 10\n",
    "    add = add + (rem**l)\n",
    "    n = n//10\n",
    "    l = l-1\n",
    "    \n",
    "if add == num:\n",
    "    print(f\"{add} is a Disarium Number\")\n",
    "else:\n",
    "    print(f\"{add} is not a Disarium Number\")\n",
    "    "
   ]
  },
  {
   "cell_type": "code",
   "execution_count": 48,
   "id": "c1d7efec",
   "metadata": {},
   "outputs": [
    {
     "name": "stdout",
     "output_type": "stream",
     "text": [
      "Disarium numbers between 1 and 100 are\n",
      "1\n",
      "2\n",
      "3\n",
      "4\n",
      "5\n",
      "6\n",
      "7\n",
      "8\n",
      "9\n",
      "89\n"
     ]
    }
   ],
   "source": [
    "#2. Write a Python program to print all disarium numbers between 1 to 100?\n",
    "\n",
    "def dis_num(num1):\n",
    "    l1= len(str(num1))\n",
    "    n1 = num1\n",
    "    rem1 = 0\n",
    "    add1 = 0\n",
    "\n",
    "    while (n1 > 0):\n",
    "        rem1 = n1 % 10\n",
    "        add1 = add1 + (rem1**l1)\n",
    "        n1 = n1//10\n",
    "        l1 = l1-1\n",
    "    return add1\n",
    "\n",
    "result = 0\n",
    "print(\"Disarium numbers between 1 and 100 are\");  \n",
    "for i in range(1, 101): \n",
    "    result = dis_num(i)\n",
    "\n",
    "    if result == i:\n",
    "        print(result)\n",
    "    \n"
   ]
  },
  {
   "cell_type": "code",
   "execution_count": 64,
   "id": "6f0ee526",
   "metadata": {},
   "outputs": [
    {
     "name": "stdout",
     "output_type": "stream",
     "text": [
      "enter number: 94\n",
      "94 is a Happy Number\n"
     ]
    }
   ],
   "source": [
    "#3. Write a Python program to check if the given number is Happy Number?\n",
    "\n",
    "def dis_num(num2):\n",
    "    n2 = num2\n",
    "    rem2 = 0\n",
    "    add2 = 0\n",
    "\n",
    "    while (n2 > 0):\n",
    "        rem2 = n2 % 10\n",
    "        add2 = add2 + (rem2 ** 2)\n",
    "        n2 = n2 // 10\n",
    "\n",
    "    return add2\n",
    "\n",
    "n2 = int(input(\"enter number: \"))\n",
    "\n",
    "output = dis_num(n2)\n",
    "\n",
    "flag = True\n",
    "while flag:\n",
    "    if (output == 1):\n",
    "        print(f\"{n2} is a Happy Number\")\n",
    "        flag = False\n",
    "    elif (output == 4):\n",
    "        print(f\"{n2} is not a Happy Number\")\n",
    "        break\n",
    "    else:\n",
    "        output= dis_num(output)\n",
    "        "
   ]
  },
  {
   "cell_type": "code",
   "execution_count": 71,
   "id": "d7b3588e",
   "metadata": {},
   "outputs": [
    {
     "name": "stdout",
     "output_type": "stream",
     "text": [
      "Happy numbers between 1 and 100 are\n",
      "[1, 7, 10, 13, 19, 23, 28, 31, 32, 44, 49, 68, 70, 79, 82, 86, 91, 94, 97, 100]\n"
     ]
    }
   ],
   "source": [
    "# 4. Write a Python program to print all happy numbers between 1 and 100?\n",
    "\n",
    "def dis_num1(num3):\n",
    "    n3 = num3\n",
    "    rem3 = 0\n",
    "    add3 = 0\n",
    "\n",
    "    while (n3 > 0):\n",
    "        rem3 = n3 % 10\n",
    "        add3 = add3 + (rem3 ** 2)\n",
    "        n3 = n3 // 10\n",
    "\n",
    "    return add3\n",
    "\n",
    "happy_num = []\n",
    "print(\"Happy numbers between 1 and 100 are\")\n",
    "for i in range(1, 101):\n",
    "    output = dis_num1(i)\n",
    "    flag = True\n",
    "    while flag:\n",
    "        if (output == 1):\n",
    "            happy_num.append(i)\n",
    "            flag = False\n",
    "        elif (output == 4):\n",
    "            break\n",
    "        else:\n",
    "            output = dis_num1(output)\n",
    "\n",
    "print(happy_num)\n"
   ]
  },
  {
   "cell_type": "code",
   "execution_count": 75,
   "id": "8502e1db",
   "metadata": {},
   "outputs": [
    {
     "name": "stdout",
     "output_type": "stream",
     "text": [
      "Enter number: 156\n",
      "156 is a Harshad Number\n"
     ]
    }
   ],
   "source": [
    "#5. Write a Python program to determine whether the given number is a Harshad Number?\n",
    "\n",
    "number = int(input(\"Enter number: \"))\n",
    "nu = number\n",
    "remb = 0\n",
    "addition = 0\n",
    "harsd = 0\n",
    "\n",
    "while (nu > 0):\n",
    "    remb = nu % 10\n",
    "    addition = addition + remb\n",
    "    nu = nu//10\n",
    "harsd = number % addition\n",
    "if harsd == 0:\n",
    "    print(f\"{number} is a Harshad Number\")\n",
    "else:\n",
    "    print(f\"{number} is not a Harshad Number\")"
   ]
  },
  {
   "cell_type": "code",
   "execution_count": 15,
   "id": "ba8a0933",
   "metadata": {},
   "outputs": [
    {
     "name": "stdout",
     "output_type": "stream",
     "text": [
      "[2, 6, 12, 20, 30, 42, 56, 72, 90]\n"
     ]
    }
   ],
   "source": [
    "# 6. Write a Python program to print all pronic numbers between 1 and 100?\n",
    "\n",
    "def pro_num(num):\n",
    "    for i in range(1, num + 1):\n",
    "        pro = i * (i + 1)\n",
    "        if (pro == num):\n",
    "            return num\n",
    "        elif(pro > num):\n",
    "            break\n",
    "m1 = []\n",
    "for i in range(1,101):\n",
    "    m = pro_num(i)\n",
    "    if type(m) == int:\n",
    "        m1.append(m)\n",
    "print(m1)\n"
   ]
  },
  {
   "cell_type": "code",
   "execution_count": null,
   "id": "e36764c6",
   "metadata": {},
   "outputs": [],
   "source": []
  }
 ],
 "metadata": {
  "kernelspec": {
   "display_name": "Python 3 (ipykernel)",
   "language": "python",
   "name": "python3"
  },
  "language_info": {
   "codemirror_mode": {
    "name": "ipython",
    "version": 3
   },
   "file_extension": ".py",
   "mimetype": "text/x-python",
   "name": "python",
   "nbconvert_exporter": "python",
   "pygments_lexer": "ipython3",
   "version": "3.9.7"
  }
 },
 "nbformat": 4,
 "nbformat_minor": 5
}
