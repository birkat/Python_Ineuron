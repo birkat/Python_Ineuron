{
 "cells": [
  {
   "cell_type": "code",
   "execution_count": null,
   "id": "8d167cd2",
   "metadata": {},
   "outputs": [],
   "source": [
    "\"\"\"1. Why are functions advantageous to have in your programs?\n",
    "\n",
    "Answer\n",
    "\n",
    "Once a function is defined, we can reuse it over and over again. we can invoke the same function many times in our program,\n",
    "which saves our time. This makes programs shorter, easier to read, and easier to update.\"\"\""
   ]
  },
  {
   "cell_type": "code",
   "execution_count": null,
   "id": "92e3677f",
   "metadata": {},
   "outputs": [],
   "source": [
    "\"\"\"2. When does the code in a function run: when it's specified or when it's called?\n",
    "\n",
    "Answer\n",
    "\n",
    "When a function is \"called\" the program \"leaves\" the current section of code and begins to execute the first line inside\n",
    "the function, the program enters the function afterthat executed all the instructions inside it, the program leaves \n",
    "the function and goes back where it started from.\"\"\"\n",
    "\n"
   ]
  },
  {
   "cell_type": "code",
   "execution_count": null,
   "id": "f7c796e7",
   "metadata": {},
   "outputs": [],
   "source": [
    "\"\"\"3. What statement creates a function?\n",
    "\n",
    "Answer\n",
    "\n",
    "The \"def\" keyword is a statement for defining a function. we start a function with the def keyword, specify a name \n",
    "followed by a colon (:) sign. The \"def\" creates the function object and assigns it to the name given.\"\"\""
   ]
  },
  {
   "cell_type": "code",
   "execution_count": null,
   "id": "2b197fd6",
   "metadata": {},
   "outputs": [],
   "source": [
    "\"\"\"4. What is the difference between a function and a function call?\n",
    "\n",
    "Answer\n",
    "\n",
    "A function consists of \"def\" statement,the \"def\" creates the function object and a function call is what moves the program\n",
    "execution into the function, and the function call evaluates to the function's return value.\"\"\""
   ]
  },
  {
   "cell_type": "code",
   "execution_count": null,
   "id": "e1fca3d3",
   "metadata": {},
   "outputs": [],
   "source": [
    "\"\"\"5. How many global scopes are there in a Python program? How many local scopes?\n",
    "\n",
    "Answer\n",
    "\n",
    "There is one global scope, and a local scope is created whenever a function is called.\"\"\""
   ]
  },
  {
   "cell_type": "code",
   "execution_count": null,
   "id": "04d54b0d",
   "metadata": {},
   "outputs": [],
   "source": [
    "\"\"\"6. What happens to variables in a local scope when the function call returns?\n",
    "\n",
    "Answer\n",
    "\n",
    "When a function returns, the local scope is destroyed, and all the variables in it are forgotten.\"\"\""
   ]
  },
  {
   "cell_type": "code",
   "execution_count": null,
   "id": "4e123768",
   "metadata": {},
   "outputs": [],
   "source": [
    "\"\"\"7. What is the concept of a return value? Is it possible to have a return value in an expression?\n",
    "\n",
    "Answer\n",
    "\n",
    "A return value is the value that a function call evaluates to, a return value can be used as part of an expression.\"\"\""
   ]
  },
  {
   "cell_type": "code",
   "execution_count": null,
   "id": "dde0b1b0",
   "metadata": {},
   "outputs": [],
   "source": [
    "\"\"\"8. If a function does not have a return statement, what is the return value of a call to that function?\n",
    "\n",
    "Answer\n",
    "\n",
    "If a function does not have a return statement, its return value is None.\"\"\""
   ]
  },
  {
   "cell_type": "code",
   "execution_count": null,
   "id": "9cbb6bec",
   "metadata": {},
   "outputs": [],
   "source": [
    "\"\"\"9. How do you make a function variable refer to the global variable?\n",
    "\n",
    "Answer\n",
    "\n",
    "we can use the global keyword to declare which variables are global.\"\"\""
   ]
  },
  {
   "cell_type": "code",
   "execution_count": null,
   "id": "5ae913d0",
   "metadata": {},
   "outputs": [],
   "source": [
    "\"\"\"10. What is the data type of None?\n",
    "\n",
    "Answer\n",
    "\n",
    "The data type of None is \"NoneType\" \"\"\""
   ]
  },
  {
   "cell_type": "code",
   "execution_count": null,
   "id": "9ba33dfb",
   "metadata": {},
   "outputs": [],
   "source": [
    "\"\"\"11. What does the sentence import areallyourpetsnamederic do?\n",
    "\n",
    "Answer\n",
    "\n",
    "A global statement will force a variable in a function to refer to the global variable. The data type of None is NoneType .\n",
    "That import statement imports a module named areallyourpetsnamederic .\"\"\""
   ]
  },
  {
   "cell_type": "code",
   "execution_count": null,
   "id": "d9d9302b",
   "metadata": {},
   "outputs": [],
   "source": [
    "\"\"\"12. If you had a bacon() feature in a spam module, what would you call it after importing spam?\n",
    "\n",
    "Answer\n",
    "\n",
    "can be called with spam.bacon().\"\"\""
   ]
  },
  {
   "cell_type": "code",
   "execution_count": null,
   "id": "0c5409a8",
   "metadata": {},
   "outputs": [],
   "source": [
    "\"\"\"13. What can you do to save a programme from crashing if it encounters an error?\n",
    "\n",
    "Answer\n",
    "\n",
    "We can use pass() to bypass the errors or use \"try ... except\" to encounter with error\"\"\"\n"
   ]
  },
  {
   "cell_type": "code",
   "execution_count": null,
   "id": "1f73dd83",
   "metadata": {},
   "outputs": [],
   "source": [
    "\"\"\"14. What is the purpose of the try clause? What is the purpose of the except clause?\n",
    "\n",
    "Answer\n",
    "\n",
    "try…except statement runs the code under the \"try\" statement. If this code does not execute successfully, the program will\n",
    "stop at the line that caused the error and the \"except\" code will run.\n",
    "\n",
    "example:\n",
    "try:\n",
    "  print(a)\n",
    "except:\n",
    "  print(\"An error occurs\")  \"\"\""
   ]
  }
 ],
 "metadata": {
  "kernelspec": {
   "display_name": "Python 3 (ipykernel)",
   "language": "python",
   "name": "python3"
  },
  "language_info": {
   "codemirror_mode": {
    "name": "ipython",
    "version": 3
   },
   "file_extension": ".py",
   "mimetype": "text/x-python",
   "name": "python",
   "nbconvert_exporter": "python",
   "pygments_lexer": "ipython3",
   "version": "3.9.7"
  }
 },
 "nbformat": 4,
 "nbformat_minor": 5
}
