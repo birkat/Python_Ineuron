{
 "cells": [
  {
   "cell_type": "code",
   "execution_count": 19,
   "id": "34dccec7",
   "metadata": {},
   "outputs": [
    {
     "name": "stdout",
     "output_type": "stream",
     "text": [
      "Enter size of m: \n",
      "3\n",
      "Enter size of n: \n",
      "3\n",
      "Enter Matrix A: \n",
      "Enter o[0][0]1\n",
      "Enter o[0][1]2\n",
      "Enter o[0][2]3\n",
      "Enter o[1][0]4\n",
      "Enter o[1][1]5\n",
      "Enter o[1][2]6\n",
      "Enter o[2][0]7\n",
      "Enter o[2][1]8\n",
      "Enter o[2][2]9\n",
      "[[1, 2, 3], [4, 5, 6], [7, 8, 9]]\n",
      "Enter Matrix B: \n",
      "Enter o[0][0]0\n",
      "Enter o[0][1]9\n",
      "Enter o[0][2]8\n",
      "Enter o[1][0]7\n",
      "Enter o[1][1]6\n",
      "Enter o[1][2]5\n",
      "Enter o[2][0]4\n",
      "Enter o[2][1]3\n",
      "Enter o[2][2]2\n",
      "[[0, 9, 8], [7, 6, 5], [4, 3, 2]]\n",
      "Adding Matrix A and B: \n",
      " [[1, 11, 11], [11, 11, 11], [11, 11, 11]]\n"
     ]
    }
   ],
   "source": [
    "# 1. Write a Python Program to Add Two Matrices?\n",
    "\n",
    "def matrix(m ,n):\n",
    "    o = []\n",
    "    for i in range(m):\n",
    "        row = []\n",
    "        for j in range(n):\n",
    "            inp = int(input(f\"Enter o[{i}][{j}]\"))\n",
    "            row.append(inp)\n",
    "        o.append(row)\n",
    "    return o\n",
    "\n",
    "def sum(A, B):\n",
    "    output = []\n",
    "    for i in range(len(A)):\n",
    "        row1 = []\n",
    "        for j in range(len(A[0])):\n",
    "            row1.append(A[i][j] + B[i][j])\n",
    "        output.append(row1)\n",
    "    return output\n",
    "\n",
    "m = int(input(\"Enter size of m: \\n\"))\n",
    "n = int(input(\"Enter size of n: \\n\"))\n",
    "\n",
    "print(\"Enter Matrix A: \")\n",
    "A = matrix(m,n)\n",
    "print(A)\n",
    "\n",
    "print(\"Enter Matrix B: \")\n",
    "B = matrix(m,n) \n",
    "print(B)\n",
    "\n",
    "z = sum(A, B)\n",
    "print(\"Adding Matrix A and B: \\n\",z)\n"
   ]
  },
  {
   "cell_type": "code",
   "execution_count": 1,
   "id": "52aede19",
   "metadata": {},
   "outputs": [],
   "source": [
    "# 2. Write a Python Program to Multiply Two Matrices?"
   ]
  },
  {
   "cell_type": "code",
   "execution_count": 23,
   "id": "65c21984",
   "metadata": {},
   "outputs": [
    {
     "name": "stdout",
     "output_type": "stream",
     "text": [
      "Enter the row for the first matrix : 3\n",
      "Enter the column for first  matrix : 3\n",
      "Enter the row for the second matrix : 3\n",
      "Enter the column for the second matrix : 2\n",
      "Enter the elements in the matrix A : \n",
      "Enter A[0][0]:2\n",
      "Enter A[0][1]:1\n",
      "Enter A[0][2]:3\n",
      "Enter A[1][0]:5\n",
      "Enter A[1][1]:2\n",
      "Enter A[1][2]:1\n",
      "Enter A[2][0]:2\n",
      "Enter A[2][1]:0\n",
      "Enter A[2][2]:3\n",
      "Enter the elements in the matrix B : \n",
      "Enter B[0][0]:2\n",
      "Enter B[0][1]:3\n",
      "Enter B[1][0]:1\n",
      "Enter B[1][1]:2\n",
      "Enter B[2][0]:4\n",
      "Enter B[2][1]:0\n",
      "Multiplication of matrix A * B is: \n",
      "[17  8]\n",
      "[16 19]\n",
      "[16  6]\n"
     ]
    }
   ],
   "source": [
    "import numpy as np\n",
    "\n",
    "row_a = int(input(\"Enter the row for the first matrix : \"))\n",
    "column_a = int(input(\"Enter the column for first  matrix : \"))\n",
    "\n",
    "row_b = int(input(\"Enter the row for the second matrix : \"))\n",
    "column_b = int(input(\"Enter the column for the second matrix : \"))\n",
    "\n",
    "if (column_a != row_b):\n",
    "    print(\"Martix multiplication is not possible!\")\n",
    "\n",
    "else:\n",
    "    C = np.zeros([row_a,column_b],dtype = int)\n",
    "    \n",
    "    A = []\n",
    "    print(\"Enter the elements in the matrix A : \")\n",
    "    for i in range(row_a):\n",
    "        a = []\n",
    "        for j in range(column_a):\n",
    "            x = int(input(f\"Enter A[{i}][{j}]:\"))\n",
    "            a.append(x)\n",
    "        A.append(a)\n",
    "\n",
    "    B = []\n",
    "    print(\"Enter the elements in the matrix B : \")\n",
    "    for i in range(row_b):\n",
    "        b = []\n",
    "        for j in range(column_b):\n",
    "            h = int(input(f\"Enter B[{i}][{j}]:\")) \n",
    "            b.append(h)\n",
    "        B.append(b)\n",
    "\n",
    "    for i in range(0,len(C)):\n",
    "        for j in range(0,len(C[0])):\n",
    "            for k in range(0,len(B)):\n",
    "                C[i][j] += A[i][k] * B[k][j]\n",
    "    \n",
    "    print(\"Multiplication of matrix A * B is: \")\n",
    "    for  row in C:\n",
    "        print(row)"
   ]
  },
  {
   "cell_type": "code",
   "execution_count": 6,
   "id": "0c4208f8",
   "metadata": {},
   "outputs": [
    {
     "name": "stdout",
     "output_type": "stream",
     "text": [
      "enter the number of rows: 3\n",
      "enter the number of column: 3\n",
      "enter the value for matrix1: \n",
      "2\n",
      "3\n",
      "4\n",
      "5\n",
      "4\n",
      "3\n",
      "6\n",
      "78\n",
      "6\n",
      "Matrix: \n",
      "2   3   4   \n",
      "5   4   3   \n",
      "6   78  6   \n",
      "Transpose:\n",
      "2   5   6   \n",
      "3   4   78  \n",
      "4   3   6   \n"
     ]
    }
   ],
   "source": [
    "# 3. Write a Python Program to Transpose a Matrix?\n",
    "\n",
    "p = int(input(\"enter the number of rows: \"))\n",
    "q = int(input(\"enter the number of column: \"))\n",
    "\n",
    "print(\"enter the value for matrix1: \")\n",
    "matrix1 = [[int(input()) for i in range(q)] for j in range(p)]\n",
    "print(\"Matrix: \")\n",
    "for i in range(p):\n",
    "    for j in range(q): \n",
    "        print(format(matrix1[i][j],\"<4\"), end=\"\")\n",
    "    print()\n",
    "    \n",
    "transpose = [[0 for i in range(p)] for j in range(q)]\n",
    "for i in range(q):\n",
    "    for j in range(p):\n",
    "        transpose[i][j] = matrix1[j][i]\n",
    "\n",
    "print(\"Transpose:\")\n",
    "for i in range(q):\n",
    "    for j in range(p): \n",
    "        print(format(transpose[i][j],\"<4\"), end=\"\")\n",
    "    print()\n",
    "    "
   ]
  },
  {
   "cell_type": "code",
   "execution_count": 14,
   "id": "ce0ac601",
   "metadata": {},
   "outputs": [
    {
     "name": "stdout",
     "output_type": "stream",
     "text": [
      "Enter sentences: Write a Python Program to Sort Words in Alphabetic Order\n",
      "Alphabetic Order Program Python Sort Words Write a in to\n"
     ]
    }
   ],
   "source": [
    "#4. Write a Python Program to Sort Words in Alphabetic Order?\n",
    "\n",
    "s = input(\"Enter sentences: \")\n",
    "l = list(s.split())\n",
    "l.sort()\n",
    "print(' '.join(l))"
   ]
  },
  {
   "cell_type": "code",
   "execution_count": 19,
   "id": "8c90be27",
   "metadata": {},
   "outputs": [
    {
     "name": "stdout",
     "output_type": "stream",
     "text": [
      "Enter any string: hello! , how are you? ## &***** waht are you doing:;\n",
      " hello  how are you   waht are you doing\n"
     ]
    }
   ],
   "source": [
    "#5. Write a Python Program to Remove Punctuation From a String?\n",
    "\n",
    "punctuation = \"\"\"!()-[]{};:\"'\\,<>./?@#$%^&~`*\"\"\"\n",
    "\n",
    "sr = input(\"Enter any string: \")\n",
    "no_punc = \" \"\n",
    "for i in sr:\n",
    "    if i not in punctuation:\n",
    "        no_punc = no_punc + i\n",
    "print(no_punc)"
   ]
  },
  {
   "cell_type": "code",
   "execution_count": null,
   "id": "592f4b8e",
   "metadata": {},
   "outputs": [],
   "source": []
  }
 ],
 "metadata": {
  "kernelspec": {
   "display_name": "Python 3 (ipykernel)",
   "language": "python",
   "name": "python3"
  },
  "language_info": {
   "codemirror_mode": {
    "name": "ipython",
    "version": 3
   },
   "file_extension": ".py",
   "mimetype": "text/x-python",
   "name": "python",
   "nbconvert_exporter": "python",
   "pygments_lexer": "ipython3",
   "version": "3.9.7"
  }
 },
 "nbformat": 4,
 "nbformat_minor": 5
}
