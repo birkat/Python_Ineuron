{
 "cells": [
  {
   "cell_type": "code",
   "execution_count": 10,
   "id": "0c80369b",
   "metadata": {},
   "outputs": [
    {
     "name": "stdout",
     "output_type": "stream",
     "text": [
      "Enter list size: 4\n",
      "\n",
      "\n",
      "Enter array: 5\n",
      "Enter array: 10\n",
      "Enter array: 15\n",
      "Enter array: 20\n",
      "[5, 10, 15, 20] \n",
      "\n",
      "sum of array 50\n"
     ]
    }
   ],
   "source": [
    "#1. Write a Python Program to find sum of array?\n",
    "\n",
    "def find_arry(arry):\n",
    "    sum = 0\n",
    "    for i in arry:\n",
    "        sum = sum + i\n",
    "    return sum\n",
    "\n",
    "num_list = []\n",
    "n = int(input(\"Enter list size: \"))\n",
    "print(\"\\n\")\n",
    "for i in range(0,n):\n",
    "    arry=int(input(\"Enter array: \"))\n",
    "    num_list.append(arry)\n",
    "print(num_list,\"\\n\")\n",
    "\n",
    "result = find_arry(num_list)\n",
    "print(\"sum of array\", result)"
   ]
  },
  {
   "cell_type": "code",
   "execution_count": 23,
   "id": "54c481af",
   "metadata": {},
   "outputs": [
    {
     "name": "stdout",
     "output_type": "stream",
     "text": [
      "Enter size of an array: 5\n",
      "\n",
      "\n",
      "Enter array: 65\n",
      "Enter array: 23\n",
      "Enter array: 14\n",
      "Enter array: 78\n",
      "Enter array: 3\n",
      "[65, 23, 14, 78, 3] \n",
      "\n",
      "Largest element in an array is:  78\n"
     ]
    }
   ],
   "source": [
    "#2. Write a Python Program to find largest element in an array?\n",
    "\n",
    "ele =[]\n",
    "m = 0\n",
    "element = int(input(\"Enter size of an array: \"))\n",
    "print(\"\\n\")\n",
    "for i in range(0,element):\n",
    "    arry1 = int(input(\"Enter array: \"))\n",
    "    ele.append(arry1)\n",
    "print(ele,\"\\n\")\n",
    "for j in ele:\n",
    "    if j>=m:\n",
    "        m=j\n",
    "print(\"Largest element in an array is: \",m)\n",
    "    \n",
    "    "
   ]
  },
  {
   "cell_type": "code",
   "execution_count": 45,
   "id": "ee6a1d24",
   "metadata": {},
   "outputs": [
    {
     "name": "stdout",
     "output_type": "stream",
     "text": [
      "Enter Array Rotation Number: 3\n",
      "Enter size of array: 8\n",
      "\n",
      "\n",
      "Enter array: 12\n",
      "Enter array: 34\n",
      "Enter array: 56\n",
      "Enter array: 78\n",
      "Enter array: 90\n",
      "Enter array: 98\n",
      "Enter array: 77\n",
      "Enter array: 54\n",
      "Original Array:  [12, 34, 56, 78, 90, 98, 77, 54] \n",
      "\n",
      "Array Rotation:  [78, 90, 98, 77, 54, 12, 34, 56]\n"
     ]
    }
   ],
   "source": [
    "#3. Write a Python Program for array rotation?\n",
    "\n",
    "m = []\n",
    "r = int(input(\"Enter Array Rotation Number: \"))\n",
    "size = int(input(\"Enter size of array: \"))\n",
    "print(\"\\n\")\n",
    "for i in range(0,size):\n",
    "    l1 = int(input(\"Enter array: \"))\n",
    "    m.append(l1)\n",
    "print(\"Original Array: \",m,\"\\n\")\n",
    "\n",
    "for i in range(0,r):\n",
    "    x = m[0]\n",
    "    for j in range(1,size):\n",
    "        m[j-1] = m[j]\n",
    "    m[size-1] =x\n",
    "print(\"Array Rotation: \",m)\n"
   ]
  },
  {
   "cell_type": "code",
   "execution_count": 48,
   "id": "bf6456f2",
   "metadata": {},
   "outputs": [
    {
     "name": "stdout",
     "output_type": "stream",
     "text": [
      "Enter size of array: 5\n",
      "\n",
      "\n",
      "Enter array: 89\n",
      "Enter array: 67\n",
      "Enter array: 56\n",
      "Enter array: 43\n",
      "Enter array: 23\n",
      "[89, 67, 56, 43, 23] \n",
      "\n",
      "Adding first part to the end:  [67, 56, 43, 23, 89]\n"
     ]
    }
   ],
   "source": [
    "# 4. Write a Python Program to Split the array and add the first part to the end?\n",
    "\n",
    "a1 = []\n",
    "size1 = int(input(\"Enter size of array: \"))\n",
    "print(\"\\n\")\n",
    "for i in range(0,size1):\n",
    "    s = int(input(\"Enter array: \"))\n",
    "    a1.append(s)\n",
    "print(a1,\"\\n\")\n",
    "\n",
    "x = a1[0]\n",
    "for i in range(1,size1):\n",
    "    a1[i-1] = a1[i]\n",
    "a1[size1-1] =x\n",
    "print(\"Adding first part to the end: \",a1)\n",
    "    "
   ]
  },
  {
   "cell_type": "code",
   "execution_count": 24,
   "id": "5aadd05b",
   "metadata": {},
   "outputs": [
    {
     "name": "stdout",
     "output_type": "stream",
     "text": [
      "Enter size of array: 5\n",
      "Enter array: 23\n",
      "Enter array: 34\n",
      "Enter array: 45\n",
      "Enter array: 56\n",
      "Enter array: 67\n",
      "[23, 34, 45, 56, 67] \n",
      "\n",
      "Monotonic:  True\n"
     ]
    }
   ],
   "source": [
    "# 5. Write a Python Program to check if given array is Monotonic?\n",
    "\n",
    "def isMonotonic(s):\n",
    "    return (all(s[i] <= s[i + 1] for i in range(len(s) - 1)) or\n",
    "            all(s[i] >= s[i + 1] for i in range(len(s) - 1)))\n",
    "\n",
    "s = []\n",
    "size2 = int(input(\"Enter size of array: \"))\n",
    "for i in range(0,size2):\n",
    "    b = int(input(\"Enter array: \"))\n",
    "    s.append(b)\n",
    "print(s,\"\\n\")\n",
    "\n",
    "print(\"Monotonic: \",isMonotonic(s))"
   ]
  }
 ],
 "metadata": {
  "kernelspec": {
   "display_name": "Python 3 (ipykernel)",
   "language": "python",
   "name": "python3"
  },
  "language_info": {
   "codemirror_mode": {
    "name": "ipython",
    "version": 3
   },
   "file_extension": ".py",
   "mimetype": "text/x-python",
   "name": "python",
   "nbconvert_exporter": "python",
   "pygments_lexer": "ipython3",
   "version": "3.9.7"
  }
 },
 "nbformat": 4,
 "nbformat_minor": 5
}
