{
 "cells": [
  {
   "cell_type": "raw",
   "id": "90884616",
   "metadata": {},
   "source": [
    "1 . you have to write a fun which will take string and return a len of \n",
    "it without using a inbuilt fun len\n",
    "2 . write a fun which will be able to print an index of all premitive element which you will pass \n",
    "3 . Write a fun which will take input as a dict and give me out as a list of all the values \n",
    "even in case of 2 level nesting it should work . \n",
    "4 . write a fun which will take another function as an input and return me an output \n",
    "5. write a function whihc will take multiple list as a input and give me concatnation of all the element as \n",
    "and output \n",
    "6 . write a function which will be able to take a list as an input return an index of each element \n",
    "like a inbuilt index function but even if we have repetative element it should return index \n",
    "7 . Write a function which will whould return list of all the file name from a directory . \n",
    "8  . write a function which will be able to show your system configuration . \n",
    "9 . write a function which will be able to show date and time  . \n",
    "10 . write a function whihc will be able to read a image file and show it to you .\n",
    "11 . write a function which can read video file and play for you . \n",
    "12  . write a function whihc can move a file from one directory to another directory . \n",
    "13 . write a function which will be able to shutdonw your system . \n",
    "14 . write a function whihc will be able to access your mail . \n",
    "15 . write a func bywhcih i can send a mail to anyone \n",
    "16. write a func to read a complete PDf file . \n",
    "17. write a function to read a word file . \n",
    "18 . write a function which can help you to filter only word file from a directory . \n",
    "19 . write a function by which you can print an ip address of your system . \n",
    "20 . write a function by which you will be able to append two PDF files . \n",
    "\n",
    "sudhanshu@ineuron.ai"
   ]
  },
  {
   "cell_type": "code",
   "execution_count": 13,
   "id": "9180c8b0",
   "metadata": {},
   "outputs": [
    {
     "data": {
      "text/plain": [
       "10"
      ]
     },
     "execution_count": 13,
     "metadata": {},
     "output_type": "execute_result"
    }
   ],
   "source": [
    "\"\"\"1 . you have to write a fun which will take string and return a len of \n",
    "it without using a inbuilt fun len\"\"\"\n",
    "\n",
    "def str_count(a):\n",
    "    count=0\n",
    "    for i in a:\n",
    "        count=count+1\n",
    "    return count\n",
    "\n",
    "str_count(\"sudh kumar\")"
   ]
  },
  {
   "cell_type": "code",
   "execution_count": 27,
   "id": "0f45a541",
   "metadata": {},
   "outputs": [
    {
     "name": "stdout",
     "output_type": "stream",
     "text": [
      "45 0\n",
      "56 1\n",
      "7 2\n",
      "8 3\n",
      "sudh 4\n",
      "(34, 5, 6) 5\n"
     ]
    }
   ],
   "source": [
    "\"\"\"2 . write a fun which will be able to print an index of all premitive element which you will pass \"\"\"\n",
    "\n",
    "def pre_index(b):\n",
    "    for i in range(len(b)):\n",
    "        print(b[i],i) \n",
    "        \n",
    "pre_index([45,56,7,8,\"sudh\",(34,5,6)])"
   ]
  },
  {
   "cell_type": "code",
   "execution_count": 69,
   "id": "39f6b0df",
   "metadata": {},
   "outputs": [
    {
     "data": {
      "text/plain": [
       "[dict_values([344, 345, 67]), 'sef', 345, dict_values([456, 3434, 'don'])]"
      ]
     },
     "execution_count": 69,
     "metadata": {},
     "output_type": "execute_result"
    }
   ],
   "source": [
    "\"\"\"3 . Write a fun which will take input as a dict and give me out as a list of all the values \n",
    "even in case of 2 level nesting it should work . \"\"\"\n",
    "\n",
    "def dic_values(a):\n",
    "    l=[]\n",
    "    for i in a.values():\n",
    "        if type(i) == dict:\n",
    "            l.append((i.values()))\n",
    "        elif type(i) == str:\n",
    "            l.append(i)\n",
    "        else:\n",
    "            l.append(i)\n",
    "    return l\n",
    "\n",
    "dic_values({\"sudip\":{345:344,78:345,45:67},\"abc\":\"sef\",123:345,345:{986:456,3443:3434,\"sudh\":\"don\"}})"
   ]
  },
  {
   "cell_type": "code",
   "execution_count": 73,
   "id": "58b2c292",
   "metadata": {},
   "outputs": [
    {
     "name": "stdout",
     "output_type": "stream",
     "text": [
      "Ineuron\n",
      "one neuron\n"
     ]
    }
   ],
   "source": [
    "\"\"\"4 . write a fun which will take another function as an input and return me an output\"\"\"\n",
    "\n",
    "def test1(fun1):\n",
    "    print(\"Ineuron\")\n",
    "    \n",
    "    \n",
    "def test2(fun):\n",
    "    print(\"one neuron\")\n",
    "    \n",
    "test1(test2)\n",
    "test2(test1)"
   ]
  },
  {
   "cell_type": "code",
   "execution_count": 11,
   "id": "72829a13",
   "metadata": {},
   "outputs": [
    {
     "data": {
      "text/plain": [
       "[1, 2, 3, 4, 5, 6, 7, 8, 9, 0]"
      ]
     },
     "execution_count": 11,
     "metadata": {},
     "output_type": "execute_result"
    }
   ],
   "source": [
    "\"\"\"5. write a function whihc will take multiple list as a input and give me concatnation of all the element as \n",
    "and output \"\"\"\n",
    "import itertools \n",
    "def con_list(d):\n",
    "    return d\n",
    "    #for i in range(len(d)):\n",
    "        \n",
    "con_list(list(itertools.chain([1,2,3,4],[5,6,7],[8,9,0])))"
   ]
  },
  {
   "cell_type": "code",
   "execution_count": 13,
   "id": "59e53d5b",
   "metadata": {},
   "outputs": [
    {
     "name": "stdout",
     "output_type": "stream",
     "text": [
      "0 1\n",
      "1 2\n",
      "2 3\n",
      "3 4\n",
      "4 5\n",
      "5 4\n",
      "6 3\n",
      "7 2\n"
     ]
    }
   ],
   "source": [
    "\"\"\"6 . write a function which will be able to take a list as an input return an index of each element \n",
    "like a inbuilt index function but even if we have repetative element it should return index\"\"\"\n",
    "\n",
    "def ind_elem(a):\n",
    "    for i in range(len(a)):\n",
    "        print(i,a[i])\n",
    "        \n",
    "ind_elem([1,2,3,4,5,4,3,2])"
   ]
  },
  {
   "cell_type": "code",
   "execution_count": 17,
   "id": "bd1592c9",
   "metadata": {},
   "outputs": [
    {
     "data": {
      "text/plain": [
       "['gp', 'Logs']"
      ]
     },
     "execution_count": 17,
     "metadata": {},
     "output_type": "execute_result"
    }
   ],
   "source": [
    "\"\"\"7 . Write a function which will whould return list of all the file name from a directory .\"\"\"\n",
    "\n",
    "import os\n",
    "def dir_list():\n",
    "    file=os.listdir(\"C:\\Intel\")\n",
    "    return file\n",
    "    \n",
    "dir_list()"
   ]
  },
  {
   "cell_type": "code",
   "execution_count": 35,
   "id": "d1cf674c",
   "metadata": {},
   "outputs": [
    {
     "name": "stdout",
     "output_type": "stream",
     "text": [
      "Intel64 Family 6 Model 69 Stepping 1, GenuineIntel\n",
      "uname_result(system='Windows', node='DESKTOP-KN2F69N', release='10', version='10.0.19042', machine='AMD64')\n"
     ]
    }
   ],
   "source": [
    "\"\"\"8  . write a function which will be able to show your system configuration .\"\"\"\n",
    "\n",
    "import platform\n",
    "\n",
    "def sys_info():\n",
    "    print(platform.processor()) \n",
    "    print( platform.uname())\n",
    "\n",
    "sys_info()"
   ]
  },
  {
   "cell_type": "code",
   "execution_count": 1,
   "id": "cca22eb5",
   "metadata": {},
   "outputs": [
    {
     "name": "stdout",
     "output_type": "stream",
     "text": [
      "2022-01-13\n",
      "12:39:44\n"
     ]
    }
   ],
   "source": [
    "\"\"\"9 . write a function which will be able to show date and time  .\"\"\"\n",
    "\n",
    "from datetime import date \n",
    "import time\n",
    "\n",
    "def date_time():\n",
    "    print(date.today())\n",
    "    print(time.strftime(\"%H:%M:%S\"))\n",
    "\n",
    "date_time()\n"
   ]
  },
  {
   "cell_type": "code",
   "execution_count": 14,
   "id": "0175687a",
   "metadata": {},
   "outputs": [
    {
     "data": {
      "image/jpeg": "[encoded data removed]",
      "text/plain": [
       "<IPython.core.display.Image object>"
      ]
     },
     "execution_count": 14,
     "metadata": {},
     "output_type": "execute_result"
    }
   ],
   "source": [
    "\"\"\"10 . write a function whihc will be able to read a image file and show it to you .\"\"\"\n",
    "\n",
    "from IPython.display import Image\n",
    "\n",
    "def img_show():\n",
    "    return Image(filename='birendra.jpg') \n",
    "\n",
    "img_show()"
   ]
  },
  {
   "cell_type": "code",
   "execution_count": null,
   "id": "b7b9af91",
   "metadata": {},
   "outputs": [],
   "source": [
    "\"\"\"11 . write a function which can read video file and play for you .\"\"\"\n",
    "\n",
    "from IPython.display import Video\n",
    "\n",
    "def vid_play():\n",
    "    return Video(\"Saili.mp4\")\n",
    "\n",
    "vid_play()"
   ]
  },
  {
   "cell_type": "code",
   "execution_count": 16,
   "id": "6f6f2b92",
   "metadata": {},
   "outputs": [
    {
     "data": {
      "text/plain": [
       "'12  . write a function whihc can move a file from one directory to another directory .'"
      ]
     },
     "execution_count": 16,
     "metadata": {},
     "output_type": "execute_result"
    }
   ],
   "source": [
    "\"\"\"12  . write a function whihc can move a file from one directory to another directory .\"\"\"\n",
    "# try but only error\n",
    "\n",
    "import shutil\n",
    "import os\n",
    "\n",
    "file_source = 'sudh'\n",
    "file_destination = 'kumar'\n",
    " \n",
    "get_files = os.listdir(file_source)\n",
    " \n",
    "for g in get_files:\n",
    "    shutil.move(file_source + g, file_destination)"
   ]
  },
  {
   "cell_type": "code",
   "execution_count": 5,
   "id": "bd67bcb1",
   "metadata": {},
   "outputs": [
    {
     "name": "stdout",
     "output_type": "stream",
     "text": [
      "Do you wish to shutdown your computer ? (yes / no): no\n"
     ]
    }
   ],
   "source": [
    "\"\"\"13 . write a function which will be able to shutdonw your system .\"\"\"\n",
    "import os \n",
    "\n",
    "def shut_down():\n",
    "    shutdown = input(\"Do you wish to shutdown your computer ? (yes / no): \") \n",
    "    if shutdown == 'no': \n",
    "            exit() \n",
    "    else: \n",
    "        os.system(\"shutdown /s /t 1\")\n",
    "        \n",
    "shut_down()"
   ]
  },
  {
   "cell_type": "code",
   "execution_count": 7,
   "id": "add33e79",
   "metadata": {},
   "outputs": [
    {
     "ename": "ModuleNotFoundError",
     "evalue": "No module named 'PyPDF2'",
     "output_type": "error",
     "traceback": [
      "\u001b[1;31m---------------------------------------------------------------------------\u001b[0m",
      "\u001b[1;31mModuleNotFoundError\u001b[0m                       Traceback (most recent call last)",
      "\u001b[1;32m~\\AppData\\Local\\Temp/ipykernel_8212/1821660164.py\u001b[0m in \u001b[0;36m<module>\u001b[1;34m\u001b[0m\n\u001b[0;32m      1\u001b[0m \u001b[1;34m\"\"\"16. write a func to read a complete PDf file .\"\"\"\u001b[0m\u001b[1;33m\u001b[0m\u001b[1;33m\u001b[0m\u001b[0m\n\u001b[0;32m      2\u001b[0m \u001b[1;33m\u001b[0m\u001b[0m\n\u001b[1;32m----> 3\u001b[1;33m \u001b[1;32mimport\u001b[0m \u001b[0mPyPDF2\u001b[0m\u001b[1;33m\u001b[0m\u001b[1;33m\u001b[0m\u001b[0m\n\u001b[0m\u001b[0;32m      4\u001b[0m \u001b[1;33m\u001b[0m\u001b[0m\n\u001b[0;32m      5\u001b[0m \u001b[0mfile\u001b[0m \u001b[1;33m=\u001b[0m \u001b[0mopen\u001b[0m\u001b[1;33m(\u001b[0m\u001b[1;34m'Full Stack Data Science.pdf'\u001b[0m\u001b[1;33m,\u001b[0m \u001b[1;34m'rb'\u001b[0m\u001b[1;33m)\u001b[0m\u001b[1;33m\u001b[0m\u001b[1;33m\u001b[0m\u001b[0m\n",
      "\u001b[1;31mModuleNotFoundError\u001b[0m: No module named 'PyPDF2'"
     ]
    }
   ],
   "source": [
    "\"\"\"16. write a func to read a complete PDf file .\"\"\"\n",
    "#try but error\n",
    "import PyPDF2\n",
    "\n",
    "file = open('Full Stack Data Science.pdf', 'rb')\n",
    "fileReader = PyPDF2.PdfFileReader(file)\n",
    "print(fileReader.numPages)"
   ]
  },
  {
   "cell_type": "code",
   "execution_count": 11,
   "id": "12846e41",
   "metadata": {},
   "outputs": [
    {
     "ename": "SyntaxError",
     "evalue": "invalid syntax (Temp/ipykernel_8816/293543848.py, line 1)",
     "output_type": "error",
     "traceback": [
      "\u001b[1;36m  File \u001b[1;32m\"C:\\Users\\SUDIP\\AppData\\Local\\Temp/ipykernel_8816/293543848.py\"\u001b[1;36m, line \u001b[1;32m1\u001b[0m\n\u001b[1;33m    pip install textract\u001b[0m\n\u001b[1;37m        ^\u001b[0m\n\u001b[1;31mSyntaxError\u001b[0m\u001b[1;31m:\u001b[0m invalid syntax\n"
     ]
    }
   ],
   "source": [
    "pip install textract\n",
    "import textract\n",
    "text = textract.process('Full Stack Data Science.pdf', method='pdfminer')"
   ]
  },
  {
   "cell_type": "code",
   "execution_count": 7,
   "id": "38d390c4",
   "metadata": {},
   "outputs": [],
   "source": [
    "\"\"\"19 . write a function by which you can print an ip address of your system\"\"\"\n",
    "import socket \n",
    "\n",
    "def ip_add():\n",
    "    hostname = socket.gethostname()   \n",
    "    ipadd = socket.gethostbyname(hostname)   \n",
    "    print(\"Your Computer Name is:\" + hostname)   \n",
    "    print(\"Your Computer IP Address is:\" + ipadd)\n",
    "    \n",
    "ip_add()\n"
   ]
  }
 ],
 "metadata": {
  "kernelspec": {
   "display_name": "Python 3 (ipykernel)",
   "language": "python",
   "name": "python3"
  },
  "language_info": {
   "codemirror_mode": {
    "name": "ipython",
    "version": 3
   },
   "file_extension": ".py",
   "mimetype": "text/x-python",
   "name": "python",
   "nbconvert_exporter": "python",
   "pygments_lexer": "ipython3",
   "version": "3.9.7"
  }
 },
 "nbformat": 4,
 "nbformat_minor": 5
}
