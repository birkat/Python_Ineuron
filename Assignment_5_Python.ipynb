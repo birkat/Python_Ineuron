{
 "cells": [
  {
   "cell_type": "code",
   "execution_count": 3,
   "id": "776f8ede",
   "metadata": {},
   "outputs": [
    {
     "data": {
      "text/plain": [
       "{}"
      ]
     },
     "execution_count": 3,
     "metadata": {},
     "output_type": "execute_result"
    }
   ],
   "source": [
    "\"\"\"1. What does an empty dictionary's code look like?\"\"\"\n",
    "\n",
    "\"\"\"\n",
    "The empty dictionary code look like {}\n",
    "\"\"\"\n",
    "dic={}\n",
    "dic"
   ]
  },
  {
   "cell_type": "code",
   "execution_count": 4,
   "id": "8e2b011f",
   "metadata": {},
   "outputs": [
    {
     "data": {
      "text/plain": [
       "{'foo': 42}"
      ]
     },
     "execution_count": 4,
     "metadata": {},
     "output_type": "execute_result"
    }
   ],
   "source": [
    "\"\"\"2. What is the value of a dictionary value with the key 'foo' and the value 42?\"\"\"\n",
    "\n",
    "d={\"foo\":42}\n",
    "d"
   ]
  },
  {
   "cell_type": "code",
   "execution_count": null,
   "id": "19e7b241",
   "metadata": {},
   "outputs": [],
   "source": [
    "\"\"\"3. What is the most significant distinction between a dictionary and a list?\"\"\"\n",
    "\n",
    "\"\"\"\n",
    "Answer \n",
    "\n",
    "-A list is an ordered sequence of objects,Dictionary is a hashed structure of key and value pairs.\n",
    "-List is created by placing elements in [] separated by commas \",\" Dictionary is created by placing elements in {} \n",
    "as \"key\":\"value\", each key value pair is separated by commas \",\"\n",
    "-The index of list are integers starting from 0. The keys of dictionary can be of any data type.\n",
    "-The elements are accessed via index. The elements are accessed via key-values.\n",
    "\n",
    "\"\"\""
   ]
  },
  {
   "cell_type": "code",
   "execution_count": 7,
   "id": "07c819e9",
   "metadata": {},
   "outputs": [
    {
     "ename": "KeyError",
     "evalue": "'foo'",
     "output_type": "error",
     "traceback": [
      "\u001b[1;31m---------------------------------------------------------------------------\u001b[0m",
      "\u001b[1;31mKeyError\u001b[0m                                  Traceback (most recent call last)",
      "\u001b[1;32m~\\AppData\\Local\\Temp/ipykernel_8928/4237364412.py\u001b[0m in \u001b[0;36m<module>\u001b[1;34m\u001b[0m\n\u001b[0;32m      2\u001b[0m \u001b[1;33m\u001b[0m\u001b[0m\n\u001b[0;32m      3\u001b[0m \u001b[0mspam\u001b[0m\u001b[1;33m=\u001b[0m\u001b[1;33m{\u001b[0m\u001b[1;34m\"bar\"\u001b[0m\u001b[1;33m:\u001b[0m\u001b[1;36m100\u001b[0m\u001b[1;33m}\u001b[0m\u001b[1;33m\u001b[0m\u001b[1;33m\u001b[0m\u001b[0m\n\u001b[1;32m----> 4\u001b[1;33m \u001b[0mspam\u001b[0m\u001b[1;33m[\u001b[0m\u001b[1;34m\"foo\"\u001b[0m\u001b[1;33m]\u001b[0m\u001b[1;33m\u001b[0m\u001b[1;33m\u001b[0m\u001b[0m\n\u001b[0m\u001b[0;32m      5\u001b[0m \u001b[1;31m#We get a key error\u001b[0m\u001b[1;33m\u001b[0m\u001b[1;33m\u001b[0m\u001b[0m\n",
      "\u001b[1;31mKeyError\u001b[0m: 'foo'"
     ]
    }
   ],
   "source": [
    "\"\"\"4. What happens if you try to access spam['foo'] if spam is {'bar': 100}?\"\"\"\n",
    "\n",
    "spam={\"bar\":100}\n",
    "spam[\"foo\"]\n",
    "\n",
    "#We get a key error"
   ]
  },
  {
   "cell_type": "code",
   "execution_count": null,
   "id": "e3dac115",
   "metadata": {},
   "outputs": [],
   "source": [
    "\"\"\"5. If a dictionary is stored in spam, what is the difference between the expressions 'cat' in spam and\n",
    "'cat' in spam.keys()?\"\"\"\n",
    "\n",
    "\"\"\"\n",
    "Answer\n",
    "\n",
    "There is no difference. The in operator checks whether a value exists as a key in the dictionary.\"\"\""
   ]
  },
  {
   "cell_type": "code",
   "execution_count": null,
   "id": "7627351b",
   "metadata": {},
   "outputs": [],
   "source": [
    "\"\"\"6. If a dictionary is stored in spam, what is the difference between the expressions 'cat' in spam and\n",
    "'cat'; in spam.values()?\"\"\"\n",
    "\n",
    "\"\"\"\n",
    "Answer\n",
    "\n",
    "cat' in spam checks whether there is a 'cat' key in the dictionary, while 'cat' in spam.values() checks whether \n",
    "there is a value 'cat' for one of the keys in spam.\n",
    "\n",
    "\"\"\""
   ]
  },
  {
   "cell_type": "code",
   "execution_count": null,
   "id": "e08606e3",
   "metadata": {},
   "outputs": [],
   "source": [
    "\"\"\"7. What is a shortcut for the following code?\n",
    "if 'color' not in spam:\n",
    "spam['color'] = 'black'\n",
    "\"\"\"\n",
    "\n",
    "# spam.setdefault('color', 'black')"
   ]
  },
  {
   "cell_type": "code",
   "execution_count": null,
   "id": "96cd0faf",
   "metadata": {},
   "outputs": [],
   "source": [
    "\"\"\"8. How do you 'pretty print' dictionary values using which module and function?\"\"\"\n",
    "\n",
    "import pprint\n",
    "pprint.pprint()"
   ]
  }
 ],
 "metadata": {
  "kernelspec": {
   "display_name": "Python 3 (ipykernel)",
   "language": "python",
   "name": "python3"
  },
  "language_info": {
   "codemirror_mode": {
    "name": "ipython",
    "version": 3
   },
   "file_extension": ".py",
   "mimetype": "text/x-python",
   "name": "python",
   "nbconvert_exporter": "python",
   "pygments_lexer": "ipython3",
   "version": "3.9.7"
  }
 },
 "nbformat": 4,
 "nbformat_minor": 5
}
