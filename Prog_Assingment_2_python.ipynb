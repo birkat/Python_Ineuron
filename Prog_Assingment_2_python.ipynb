{
 "cells": [
  {
   "cell_type": "code",
   "execution_count": 8,
   "id": "0395ef1d",
   "metadata": {},
   "outputs": [
    {
     "name": "stdout",
     "output_type": "stream",
     "text": [
      "Enter in kilometer: 89\n",
      "55.302019\n"
     ]
    }
   ],
   "source": [
    "\"\"\"1. Write a Python program to convert kilometers to miles?\"\"\"\n",
    "\n",
    "def klio_mils(k):\n",
    "    c=0.621371\n",
    "    mi=a*c\n",
    "    return mi\n",
    "\n",
    "a=float(input(\"Enter in kilometer: \"))\n",
    "print(klio_mils(a))"
   ]
  },
  {
   "cell_type": "code",
   "execution_count": 6,
   "id": "3f0d493a",
   "metadata": {},
   "outputs": [
    {
     "name": "stdout",
     "output_type": "stream",
     "text": [
      "Enter the value for Celsius: 23\n",
      "23.0 celsius convered to fahrenheit 73.4\n"
     ]
    }
   ],
   "source": [
    "\"\"\"2. Write a Python program to convert Celsius to Fahrenheit?\"\"\"\n",
    "\n",
    "def cel_fah(c):\n",
    "    fah=(cel*1.8)+32\n",
    "    return fah\n",
    "\n",
    "cel=float(input(\"Enter the value for Celsius: \"))\n",
    "feh1=cel_fah(cel)\n",
    "print(cel,\"celsius convered to fahrenheit\",feh1)"
   ]
  },
  {
   "cell_type": "code",
   "execution_count": 12,
   "id": "4548a85b",
   "metadata": {},
   "outputs": [
    {
     "name": "stdout",
     "output_type": "stream",
     "text": [
      "Enter Year: 21\n",
      "Enter Year: 01\n",
      "     January 21\n",
      "Mo Tu We Th Fr Sa Su\n",
      "             1  2  3\n",
      " 4  5  6  7  8  9 10\n",
      "11 12 13 14 15 16 17\n",
      "18 19 20 21 22 23 24\n",
      "25 26 27 28 29 30 31\n",
      "\n",
      "Todays Date: 2022-01-15\n"
     ]
    }
   ],
   "source": [
    "\"\"\"3. Write a Python program to display calendar?\"\"\"\n",
    "\n",
    "from datetime import date\n",
    "import calendar\n",
    "\n",
    "yy=int(input(\"Enter Year: \"))\n",
    "mm=int(input(\"Enter Year: \"))\n",
    "\n",
    "today=date.today()\n",
    "\n",
    "print(calendar.month(yy,mm))\n",
    "print(\"Todays Date:\",today)"
   ]
  },
  {
   "cell_type": "code",
   "execution_count": 26,
   "id": "00df6b8d",
   "metadata": {},
   "outputs": [
    {
     "name": "stdout",
     "output_type": "stream",
     "text": [
      "4x**2 + -4*x + 1=0, are:\n",
      "Types of Root: Two Equal Real Roots\n",
      "The solution are (0.5+0j) and (0.5+0j)\n"
     ]
    }
   ],
   "source": [
    "\"\"\"4. Write a Python program to solve quadratic equation?\"\"\"\n",
    "\n",
    "import cmath\n",
    "\n",
    "def quad_equ(a,b,c):\n",
    "    print(f\"{a}x**2 + {b}*x + {c}=0, are:\")\n",
    "    d = (b**2) - (4*a*c)\n",
    "    \n",
    "    sol1 = (-b-cmath.sqrt(d))/(2*a)\n",
    "    sol2 = (-b+cmath.sqrt(d))/(2*a)\n",
    "    \n",
    "    if(d>0):\n",
    "        print(\"Types of Root: Two Distinct Real Roots\")\n",
    "    elif(d==0):\n",
    "        print(\"Types of Root: Two Equal Real Roots\")\n",
    "    elif(d<0):\n",
    "        print(\"Types of Root: Two Complex Roots\")\n",
    "    \n",
    "    return sol1,sol2\n",
    "\n",
    "sol1,sol2=quad_equ(4,-4,1)\n",
    "\n",
    "print(f\"The solution are {sol1} and {sol2}\")"
   ]
  },
  {
   "cell_type": "code",
   "execution_count": 25,
   "id": "2a9053c6",
   "metadata": {},
   "outputs": [
    {
     "name": "stdout",
     "output_type": "stream",
     "text": [
      "a=89,b=56\n"
     ]
    }
   ],
   "source": [
    "\"\"\"5. Write a Python program to swap two variables without temp variable?\"\"\"\n",
    "\n",
    "def swap(a,b):\n",
    "    a,b=b,a\n",
    "    return a,b\n",
    "\n",
    "a,b=swap(a=56,b=89)\n",
    "\n",
    "print(f\"a={a},b={b}\")"
   ]
  }
 ],
 "metadata": {
  "kernelspec": {
   "display_name": "Python 3 (ipykernel)",
   "language": "python",
   "name": "python3"
  },
  "language_info": {
   "codemirror_mode": {
    "name": "ipython",
    "version": 3
   },
   "file_extension": ".py",
   "mimetype": "text/x-python",
   "name": "python",
   "nbconvert_exporter": "python",
   "pygments_lexer": "ipython3",
   "version": "3.9.7"
  }
 },
 "nbformat": 4,
 "nbformat_minor": 5
}
