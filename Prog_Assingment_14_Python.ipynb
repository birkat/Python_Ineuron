{
 "cells": [
  {
   "cell_type": "code",
   "execution_count": 58,
   "id": "ab46c929",
   "metadata": {},
   "outputs": [],
   "source": [
    "\"\"\"Define a class with a generator which can iterate the numbers, which are divisible by\n",
    "7, between a given range 0 and n.\"\"\"\n",
    "\n",
    "class div_sev:\n",
    "    def gencub1e(self,n):\n",
    "        for i in range(self.n):\n",
    "            if i % 7 == 0:\n",
    "                yield i\n",
    "                \n"
   ]
  },
  {
   "cell_type": "code",
   "execution_count": 59,
   "id": "8b2a7d32",
   "metadata": {},
   "outputs": [],
   "source": [
    "#print(list(gencub1e(50)))"
   ]
  },
  {
   "cell_type": "code",
   "execution_count": 60,
   "id": "fd23a0e1",
   "metadata": {},
   "outputs": [
    {
     "data": {
      "text/plain": [
       "<generator object div_sev.gencub1e at 0x000001BEFF72CC10>"
      ]
     },
     "execution_count": 60,
     "metadata": {},
     "output_type": "execute_result"
    }
   ],
   "source": [
    "a = div_sev()\n",
    "a.gencub1e(50)"
   ]
  },
  {
   "cell_type": "code",
   "execution_count": null,
   "id": "eed773c3",
   "metadata": {},
   "outputs": [],
   "source": [
    "\"\"\"Question 2:\n",
    "Write a program to compute the frequency of the words from the input. The output\n",
    "should output after sorting the key alphanumerically.\n",
    "Suppose the following input is supplied to the program:\n",
    "New to Python or choosing between Python 2 and Python 3? Read Python 2 or\n",
    "Python 3.\n",
    "Then, the output should be:\n",
    "2:2\n",
    "3.:1\n",
    "3?:1\n",
    "New:1\n",
    "Python:5\n",
    "Read:1\n",
    "and:1\n",
    "between:1\n",
    "choosing:1\n",
    "or:2\n",
    "to:1\"\"\"\n",
    "\n",
    "\n"
   ]
  },
  {
   "cell_type": "code",
   "execution_count": 14,
   "id": "05296648",
   "metadata": {},
   "outputs": [
    {
     "name": "stdout",
     "output_type": "stream",
     "text": [
      "Enter words: New to Python or choosing between Python 2 and Python 3? Read Python 2 or Python 3.\n",
      "2 : 2\n",
      "3. : 1\n",
      "3? : 1\n",
      "New : 1\n",
      "Python : 5\n",
      "Read : 1\n",
      "and : 1\n",
      "between : 1\n",
      "choosing : 1\n",
      "or : 2\n",
      "to : 1\n"
     ]
    }
   ],
   "source": [
    "input_words = input(\"Enter words: \").split(\" \")\n",
    "input_words.sort()\n",
    "word = []\n",
    "for i in input_words:\n",
    "    if i not in word:\n",
    "        word.append(i)\n",
    "        \n",
    "for j in range(0,len(word)):\n",
    "    print(word[j], \":\", input_words.count(word[j]))\n"
   ]
  },
  {
   "cell_type": "code",
   "execution_count": 24,
   "id": "9c3c2f34",
   "metadata": {},
   "outputs": [],
   "source": [
    "\"\"\"Question 3:\n",
    "\n",
    "Define a class Person and its two child classes: Male and Female. All classes have a\n",
    "method \"getGender\" which can print \"Male\" for Male class and \"Female\" for Female\n",
    "class.\"\"\"\n",
    "\n",
    "class Person:\n",
    "    def __init__(self, gen):\n",
    "        self.gen = gen\n",
    "        \n",
    "    def getgender():\n",
    "        pass\n",
    "\n",
    "class male(Person):\n",
    "    def getgender(self):\n",
    "        print(\"Male\")\n",
    "\n",
    "class female(Person):\n",
    "    def getgender(self):\n",
    "        print(\"Female\")\n",
    "    \n"
   ]
  },
  {
   "cell_type": "code",
   "execution_count": 26,
   "id": "d86ca101",
   "metadata": {},
   "outputs": [],
   "source": [
    "x = Person(female)"
   ]
  },
  {
   "cell_type": "code",
   "execution_count": 28,
   "id": "dec763ae",
   "metadata": {},
   "outputs": [],
   "source": [
    "y = male(male)"
   ]
  },
  {
   "cell_type": "code",
   "execution_count": 29,
   "id": "31fa83c1",
   "metadata": {},
   "outputs": [],
   "source": [
    "z = female(female)"
   ]
  },
  {
   "cell_type": "code",
   "execution_count": 30,
   "id": "c9149394",
   "metadata": {},
   "outputs": [
    {
     "name": "stdout",
     "output_type": "stream",
     "text": [
      "Female\n"
     ]
    }
   ],
   "source": [
    "z.getgender()"
   ]
  },
  {
   "cell_type": "code",
   "execution_count": 31,
   "id": "5483fb4b",
   "metadata": {},
   "outputs": [
    {
     "name": "stdout",
     "output_type": "stream",
     "text": [
      "Male\n"
     ]
    }
   ],
   "source": [
    "y.getgender()"
   ]
  },
  {
   "cell_type": "code",
   "execution_count": 39,
   "id": "d1551d56",
   "metadata": {},
   "outputs": [
    {
     "name": "stdout",
     "output_type": "stream",
     "text": [
      "I  Play  Hockey\n",
      "I  Play  Football\n",
      "I  Love  Hockey\n",
      "I  Love  Football\n",
      "You  Play  Hockey\n",
      "You  Play  Football\n",
      "You  Love  Hockey\n",
      "You  Love  Football\n"
     ]
    }
   ],
   "source": [
    "\"\"\"Question 4:\n",
    "Please write a program to generate all sentences where subject is in [I, You] and\n",
    "verb is in [Play,Love] and the object is in [Hockey,Football].\"\"\"\n",
    "\n",
    "s = [\"I\", \"You\"]\n",
    "v = [\"Play\", \"Love\"]\n",
    "o = [\"Hockey\", \"Football\"]\n",
    "\n",
    "for i in s:\n",
    "    for j in v:\n",
    "        for k in o:\n",
    "            print(i,\"\",j,\"\",k)"
   ]
  },
  {
   "cell_type": "code",
   "execution_count": 42,
   "id": "693b52ce",
   "metadata": {},
   "outputs": [
    {
     "name": "stdout",
     "output_type": "stream",
     "text": [
      "b'x\\x9c\\xcbH\\xcd\\xc9\\xc9W(\\xcf/\\xcaIQ\\xcc \\x82\\r\\x00\\xbd[\\x11\\xf5'\n",
      "b'hello world!hello world!hello world!hello world!'\n"
     ]
    }
   ],
   "source": [
    "\"\"\"Question 5:\n",
    "Please write a program to compress and decompress the string \"hello world!hello\n",
    "world!hello world!hello world!\".\"\"\"\n",
    "\n",
    "import zlib\n",
    "\n",
    "str = \"hello world!hello world!hello world!hello world!\".encode()\n",
    "str1 = zlib.compress(str)\n",
    "str2 = zlib.decompress(str1)\n",
    "print(str1)\n",
    "print(str2)"
   ]
  },
  {
   "cell_type": "code",
   "execution_count": 74,
   "id": "900e0950",
   "metadata": {},
   "outputs": [
    {
     "name": "stdout",
     "output_type": "stream",
     "text": [
      "Enter the size of list: 7\n",
      "Enter numbers: 67\n",
      "Enter numbers: 34\n",
      "Enter numbers: 53\n",
      "Enter numbers: 21\n",
      "Enter numbers: 34\n",
      "Enter numbers: 69\n",
      "Enter numbers: 22\n",
      "[21, 22, 34, 34, 53, 67, 69]\n",
      "Enter the search key: 53\n",
      "search key:  53 Index of the Key:  5\n"
     ]
    }
   ],
   "source": [
    " \"\"\"Question 6:\n",
    "Please write a binary search function which searches an item in a sorted list. The\n",
    "function should return the index of element to be searched in the list.\"\"\"\n",
    "\n",
    "def bin_search(p, index, key):\n",
    "    i = 0\n",
    "    j = index+1\n",
    "    flag = 0\n",
    "\n",
    "    while i<=j and flag == 0:\n",
    "        mid = (i+j)//2\n",
    "        #print(\"m: \",p[mid])\n",
    "\n",
    "        if p[mid] == key:\n",
    "            flag = 1\n",
    "            return mid + 1\n",
    "\n",
    "        if p[mid] > key:\n",
    "            j = mid -1\n",
    "\n",
    "        if p[mid] < key:\n",
    "            i = mid + 1\n",
    "\n",
    "index = int(input(\"Enter the size of list: \"))\n",
    "ele = []\n",
    "for i in range(index):\n",
    "    num = int(input(\"Enter numbers: \"))\n",
    "    ele.append(num)\n",
    "p = ele\n",
    "p.sort()\n",
    "print(p)\n",
    "key = int(input(\"Enter the search key: \"))\n",
    "\n",
    "g = bin_search(p,index, key)\n",
    "print(\"search key: \", key, \"Index of the Key: \",g)"
   ]
  },
  {
   "cell_type": "code",
   "execution_count": null,
   "id": "4ea7dd92",
   "metadata": {},
   "outputs": [],
   "source": []
  }
 ],
 "metadata": {
  "kernelspec": {
   "display_name": "Python 3 (ipykernel)",
   "language": "python",
   "name": "python3"
  },
  "language_info": {
   "codemirror_mode": {
    "name": "ipython",
    "version": 3
   },
   "file_extension": ".py",
   "mimetype": "text/x-python",
   "name": "python",
   "nbconvert_exporter": "python",
   "pygments_lexer": "ipython3",
   "version": "3.9.7"
  }
 },
 "nbformat": 4,
 "nbformat_minor": 5
}
