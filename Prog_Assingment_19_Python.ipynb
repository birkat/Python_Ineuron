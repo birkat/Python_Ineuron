{
 "cells": [
  {
   "cell_type": "code",
   "execution_count": 1,
   "id": "25522018",
   "metadata": {},
   "outputs": [
    {
     "name": "stdout",
     "output_type": "stream",
     "text": [
      "SSttrriinngg\n",
      "HHeelllloo  WWoorrlldd!!\n",
      "11223344!!__\n"
     ]
    }
   ],
   "source": [
    "\"\"\"Question1\n",
    "Create a function that takes a string and returns a string in which each character is repeated\n",
    "once.\n",
    "Examples\n",
    "double_char(\"String\") ➞ \"SSttrriinngg\"\n",
    "double_char(\"Hello World!\") ➞ \"HHeelllloo WWoorrlldd!!\"\n",
    "double_char(\"1234!_ \") ➞ \"11223344!!__\" \"\"\"\n",
    "\n",
    "def double_char(a):\n",
    "    s = \"\"\n",
    "    for i in a:\n",
    "        s = s + (i*2)\n",
    "    return s\n",
    "        \n",
    "print(double_char(\"String\"))\n",
    "print(double_char(\"Hello World!\"))\n",
    "print(double_char(\"1234!_\"))"
   ]
  },
  {
   "cell_type": "code",
   "execution_count": 9,
   "id": "9d5ad295",
   "metadata": {},
   "outputs": [
    {
     "name": "stdout",
     "output_type": "stream",
     "text": [
      "False\n",
      "True\n",
      "boolean expected\n",
      "boolean expected\n"
     ]
    }
   ],
   "source": [
    "\"\"\"Question2\n",
    "Create a function that reverses a boolean value and returns the string \"boolean expected\"\n",
    "if another variable type is given.\n",
    "Examples\n",
    "reverse(True) ➞ False\n",
    "reverse(False) ➞ True\n",
    "reverse(0) ➞ \"boolean expected\"\n",
    "reverse(None) ➞ \"boolean expected\" \"\"\"\n",
    "\n",
    "def reverse(a):\n",
    "    v = \"boolean expected\"\n",
    "    if a == True:\n",
    "        return False\n",
    "    elif a == False:\n",
    "        return True\n",
    "    elif a == \"0\":\n",
    "        return v\n",
    "    else:\n",
    "        return v\n",
    "\n",
    "print(reverse(True))\n",
    "print(reverse(False))\n",
    "print(reverse(\"0\"))\n",
    "print(reverse(None))"
   ]
  },
  {
   "cell_type": "code",
   "execution_count": 2,
   "id": "5e4b8a25",
   "metadata": {},
   "outputs": [
    {
     "name": "stdout",
     "output_type": "stream",
     "text": [
      "0.001\n",
      "0.008\n",
      "1048.576\n"
     ]
    }
   ],
   "source": [
    "\"\"\"Question3\n",
    "Create a function that returns the thickness (in meters) of a piece of paper after folding it n\n",
    "number of times. The paper starts off with a thickness of 0.5mm.\n",
    "Examples\n",
    "num_layers(1) ➞ \"0.001m\"\n",
    "# Paper folded once is 1mm (equal to 0.001m)\n",
    "num_layers(4) ➞ \"0.008m\"\n",
    "# Paper folded 4 times is 8mm (equal to 0.008m)\n",
    "num_layers(21) ➞ \"1048.576m\"\n",
    "# Paper folded 21 times is 1048576mm (equal to 1048.576m)\"\"\"\n",
    "\n",
    "def num_layers(n):\n",
    "    m = 0.5 * (2 ** n)\n",
    "    meter = m / 1000\n",
    "    return meter\n",
    "\n",
    "print(num_layers(1))\n",
    "print(num_layers(4))\n",
    "print(num_layers(21))\n"
   ]
  },
  {
   "cell_type": "code",
   "execution_count": 23,
   "id": "358f5ed6",
   "metadata": {},
   "outputs": [
    {
     "name": "stdout",
     "output_type": "stream",
     "text": [
      "[1, 3, 5]\n",
      "[1, 3, 4, 6]\n",
      "[]\n",
      "[0, 1, 2, 3, 4, 5]\n",
      "[1]\n"
     ]
    }
   ],
   "source": [
    "\"\"\"Question4\n",
    "\n",
    "Create a function that takes a single string as argument and returns an ordered list containing\n",
    "the indices of all capital letters in the string.\n",
    "Examples\n",
    "index_of_caps(\"eDaBiT\") ➞ [1, 3, 5]\n",
    "index_of_caps(\"eQuINoX\") ➞ [1, 3, 4, 6]\n",
    "index_of_caps(\"determine\") ➞ []\n",
    "index_of_caps(\"STRIKE\") ➞ [0, 1, 2, 3, 4, 5]\n",
    "index_of_caps(\"sUn\") ➞ [1]\"\"\"\n",
    "\n",
    "def index_of_caps(a):\n",
    "    b= []\n",
    "    for i in range(len(a)):\n",
    "        if a[i] >= \"A\" and a[i] <= \"Z\":\n",
    "            b.append(i)\n",
    "    return b\n",
    "\n",
    "print(index_of_caps(\"eDaBiT\"))\n",
    "print(index_of_caps(\"eQuINoX\"))\n",
    "print(index_of_caps(\"determine\"))\n",
    "print(index_of_caps(\"STRIKE\"))\n",
    "print(index_of_caps(\"sUn\"))"
   ]
  },
  {
   "cell_type": "code",
   "execution_count": 25,
   "id": "0afada66",
   "metadata": {},
   "outputs": [
    {
     "name": "stdout",
     "output_type": "stream",
     "text": [
      "[0, 2, 4, 6]\n",
      "[0, 2]\n",
      "[0]\n"
     ]
    }
   ],
   "source": [
    "\"\"\"Question5\n",
    "Using list comprehensions, create a function that finds all even numbers from 1 to the given\n",
    "number.\n",
    "Examples\n",
    "find_even_nums(8) ➞ [2, 4, 6, 8]\n",
    "find_even_nums(4) ➞ [2, 4]\n",
    "find_even_nums(2) ➞ [2]\"\"\"\n",
    "\n",
    "def find_even_nums(n):\n",
    "    e = [i for i in range(n) if i % 2 == 0]\n",
    "    return e\n",
    "\n",
    "print(find_even_nums(8))\n",
    "print(find_even_nums(4))\n",
    "print(find_even_nums(2))"
   ]
  },
  {
   "cell_type": "code",
   "execution_count": null,
   "id": "b3b60754",
   "metadata": {},
   "outputs": [],
   "source": []
  }
 ],
 "metadata": {
  "kernelspec": {
   "display_name": "Python 3 (ipykernel)",
   "language": "python",
   "name": "python3"
  },
  "language_info": {
   "codemirror_mode": {
    "name": "ipython",
    "version": 3
   },
   "file_extension": ".py",
   "mimetype": "text/x-python",
   "name": "python",
   "nbconvert_exporter": "python",
   "pygments_lexer": "ipython3",
   "version": "3.9.7"
  }
 },
 "nbformat": 4,
 "nbformat_minor": 5
}
