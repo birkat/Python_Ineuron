{
 "cells": [
  {
   "cell_type": "code",
   "execution_count": 14,
   "id": "c4e2e925",
   "metadata": {},
   "outputs": [
    {
     "name": "stdout",
     "output_type": "stream",
     "text": [
      "Enter number: 100\n",
      "0,35,70\n"
     ]
    }
   ],
   "source": [
    "\"\"\"Question 1:\n",
    "Please write a program using generator to print the numbers which can be divisible by 5 and\n",
    "7 between 0 and n in comma separated form while n is input by console.\n",
    "Example:\n",
    "If the following n is given as input to the program:\n",
    "100\n",
    "Then, the output of the program should be:\n",
    "0,35,70\"\"\"\n",
    "\n",
    "def multi():\n",
    "    n = int(input(\"Enter number: \"))\n",
    "    a = []\n",
    "    b = []\n",
    "    for i in range(0,n+1):\n",
    "        a.append(i*5)\n",
    "        b.append(i*7)\n",
    "    common = [c for c in a if c in b]\n",
    "    for j in common:\n",
    "        if j <= n:\n",
    "            yield j\n",
    "\n",
    "v = multi()\n",
    "s = [str(k) for k in v]\n",
    "print(\",\".join(s))\n",
    "\n",
    "\"short code\"\n",
    "\n",
    "# def div_d(n):\n",
    "#     for i in range(n+1):\n",
    "#         if i % 5 ==0:\n",
    "#             if i % 7 == 0:\n",
    "#                 yield i\n",
    "\n",
    "# x = div_d(100)\n",
    "# j = (str(k) for k in x)\n",
    "# print(\",\".join(j))"
   ]
  },
  {
   "cell_type": "code",
   "execution_count": 16,
   "id": "923dd479",
   "metadata": {},
   "outputs": [
    {
     "name": "stdout",
     "output_type": "stream",
     "text": [
      "Enter number: 10\n",
      "0,2,4,6,8,10\n"
     ]
    }
   ],
   "source": [
    "\"\"\"Question 2:\n",
    "Please write a program using generator to print the even numbers between 0 and n in comma\n",
    "separated form while n is input by console.\n",
    "Example:\n",
    "If the following n is given as input to the program:\n",
    "10\n",
    "Then, the output of the program should be:\n",
    "0,2,4,6,8,10\"\"\"\n",
    "\n",
    "def eve_num():\n",
    "    m = int(input(\"Enter number: \"))\n",
    "    e = 0\n",
    "    while e<=m:\n",
    "        if e % 2 == 0:\n",
    "            yield  e\n",
    "        e = e + 1\n",
    "\n",
    "h = eve_num()\n",
    "even = [str(e1) for e1 in h]\n",
    "print(\",\".join(even))\n"
   ]
  },
  {
   "cell_type": "code",
   "execution_count": 18,
   "id": "99087271",
   "metadata": {},
   "outputs": [
    {
     "name": "stdout",
     "output_type": "stream",
     "text": [
      "Enter size: 10\n",
      "[0, 1, 1, 2, 3, 5, 8, 13, 21, 34]\n"
     ]
    }
   ],
   "source": [
    "\"\"\"Question 3:\n",
    "The Fibonacci Sequence is computed based on the following formula:\n",
    "f(n)=0 if n=0\n",
    "f(n)=1 if n=1\n",
    "f(n)=f(n-1)+f(n-2) if n&gt;1\n",
    "Please write a program using list comprehension to print the Fibonacci Sequence in comma\n",
    "separated form with a given n input by console.\n",
    "Example:\n",
    "If the following n is given as input to the program:\n",
    "7\n",
    "\n",
    "Then, the output of the program should be:\n",
    "0,1,1,2,3,5,8,13\"\"\"\n",
    "\n",
    "f_size = int(input(\"Enter size: \"))\n",
    "f_list = [0,1]\n",
    "[f_list.append(f_list[-2] + f_list[-1]) for n in range(f_size-2)]\n",
    "print(f_list)"
   ]
  },
  {
   "cell_type": "code",
   "execution_count": 21,
   "id": "9fec3d0f",
   "metadata": {},
   "outputs": [
    {
     "name": "stdout",
     "output_type": "stream",
     "text": [
      "Enter email address: john@google.com\n",
      "username:  john\n"
     ]
    }
   ],
   "source": [
    "\"\"\"Question 4:\n",
    "Assuming that we have some email addresses in the \"username@companyname.com\" format,\n",
    "please write program to print the user name of a given email address. Both user names and\n",
    "company names are composed of letters only.\n",
    "Example:\n",
    "If the following email address is given as input to the program:\n",
    "john@google.com\n",
    "Then, the output of the program should be:\n",
    "john\"\"\"\n",
    "\n",
    "n = input(\"Enter email address: \")\n",
    "p = n.split(\"@\")\n",
    "print(\"username: \",p[0])"
   ]
  },
  {
   "cell_type": "code",
   "execution_count": 29,
   "id": "d7bffaae",
   "metadata": {},
   "outputs": [
    {
     "name": "stdout",
     "output_type": "stream",
     "text": [
      "area of shape: 0\n",
      "area of square: 36\n"
     ]
    }
   ],
   "source": [
    "\"\"\"Question 5:\n",
    "Define a class named Shape and its subclass Square. The Square class has an init function\n",
    "which takes a length as argument. Both classes have a area function which can print the area\n",
    "of the shape where Shape's area is 0 by default.\"\"\"\n",
    "\n",
    "class shape:\n",
    "    def __init__(self):\n",
    "        pass\n",
    "    \n",
    "    def area(self):\n",
    "        return 0\n",
    "    \n",
    "class square(shape):\n",
    "    def __init__(self, length):\n",
    "        self.length = length\n",
    "        \n",
    "    def area(self):\n",
    "        return self.length * self.length\n",
    "    \n",
    "w = shape()\n",
    "x = square(6)\n",
    "\n",
    "print(\"area of shape:\",w.area())\n",
    "print(\"area of square:\",x.area())"
   ]
  }
 ],
 "metadata": {
  "kernelspec": {
   "display_name": "Python 3 (ipykernel)",
   "language": "python",
   "name": "python3"
  },
  "language_info": {
   "codemirror_mode": {
    "name": "ipython",
    "version": 3
   },
   "file_extension": ".py",
   "mimetype": "text/x-python",
   "name": "python",
   "nbconvert_exporter": "python",
   "pygments_lexer": "ipython3",
   "version": "3.9.7"
  }
 },
 "nbformat": 4,
 "nbformat_minor": 5
}
