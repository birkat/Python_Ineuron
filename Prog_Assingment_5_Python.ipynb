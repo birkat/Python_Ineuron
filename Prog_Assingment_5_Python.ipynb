{
 "cells": [
  {
   "cell_type": "code",
   "execution_count": 1,
   "id": "115c9de5",
   "metadata": {},
   "outputs": [
    {
     "name": "stdout",
     "output_type": "stream",
     "text": [
      "Enter a number: 24\n",
      "Enter a number: 36\n",
      "L.C.M of 24 and 36 is 72\n"
     ]
    }
   ],
   "source": [
    "\"\"\"1. Write a Python Program to Find LCM?\"\"\"\n",
    "\n",
    "def lcm_num(x,y):\n",
    "    if(n1>n2):\n",
    "        higher=n1\n",
    "    else:\n",
    "        higher=n2\n",
    "    value=higher\n",
    "    while(True):\n",
    "        if (higher%n1==0) and (higher%n2==0):\n",
    "            print(f\"L.C.M of {n1} and {n2} is {higher}\")\n",
    "            break\n",
    "        else:\n",
    "            higher=higher+value\n",
    "\n",
    "n1=int(input(\"Enter a number: \"))\n",
    "n2=int(input(\"Enter a number: \"))   \n",
    "lcm_num(n1,n2)"
   ]
  },
  {
   "cell_type": "code",
   "execution_count": 12,
   "id": "8c2768dd",
   "metadata": {},
   "outputs": [
    {
     "name": "stdout",
     "output_type": "stream",
     "text": [
      "Enter a number: 30\n",
      "Enter a number: 15\n",
      "H.C.f of 30 and 15 is 15\n"
     ]
    }
   ],
   "source": [
    "\"\"\"2. Write a Python Program to Find HCF?\"\"\"\n",
    "def hcf_num(x,y):\n",
    "    if(n1>n2):\n",
    "        higher=n1\n",
    "    else:\n",
    "        higher=n2\n",
    "    for i in range(1,higher+1):\n",
    "        if (n1%i==0) and (n2%i==0):\n",
    "            hcf=i\n",
    "    print(f\"H.C.f of {n1} and {n2} is {hcf}\")\n",
    "\n",
    "n1=int(input(\"Enter a number: \"))\n",
    "n2=int(input(\"Enter a number: \"))   \n",
    "hcf_num(n1,n2)"
   ]
  },
  {
   "cell_type": "code",
   "execution_count": 1,
   "id": "491a07c0",
   "metadata": {},
   "outputs": [
    {
     "name": "stdout",
     "output_type": "stream",
     "text": [
      "Enter a Decimal Number: 344\n",
      "The decimal value of 344 is:\n",
      "0b101011000 in binary.\n",
      "0o530 in octal.\n",
      "0x158 in hexadecimal.\n"
     ]
    }
   ],
   "source": [
    "\"\"\"3. Write a Python Program to Convert Decimal to Binary, Octal and Hexadecimal?\"\"\"\n",
    "\n",
    "def decimal_binary(dec):\n",
    "    print(\"The decimal value of\",dec,\"is:\")\n",
    "    print(bin(dec),\"in binary.\")\n",
    "    print(oct(dec),\"in octal.\")\n",
    "    print(hex(dec),\"in hexadecimal.\")\n",
    "    \n",
    "dec=int(input(\"Enter a Decimal Number: \"))\n",
    "decimal_binary(dec)    "
   ]
  },
  {
   "cell_type": "code",
   "execution_count": 19,
   "id": "891fad57",
   "metadata": {},
   "outputs": [
    {
     "name": "stdout",
     "output_type": "stream",
     "text": [
      "Enter any character: A\n",
      "ASCII value of 'A' is 65\n"
     ]
    }
   ],
   "source": [
    "\"\"\"4. Write a Python Program To Find ASCII value of a character?\"\"\"\n",
    "\n",
    "cha=input(\"Enter any character: \")\n",
    "print(\"ASCII value of '\"+ cha + \"' is\", ord(cha))\n"
   ]
  },
  {
   "cell_type": "code",
   "execution_count": 2,
   "id": "4660e34a",
   "metadata": {},
   "outputs": [
    {
     "name": "stdout",
     "output_type": "stream",
     "text": [
      "Select Operations\n",
      "1.Addition\n",
      "2.Subtration\n",
      "3.Multiply\n",
      "4.Divide\n",
      "Select your Operation:1/2/3/4 \n",
      "4\n",
      "Enter first number: 56\n",
      "Enter second number: 7\n",
      "56.0 / 7.0 = 8.0\n",
      "Do you want to continune(Y/N): y\n",
      "Select your Operation:1/2/3/4 \n",
      "1\n",
      "Enter first number: 34\n",
      "Enter second number: 8\n",
      "34.0 + 8.0 = 42.0\n",
      "Do you want to continune(Y/N): y\n",
      "Select your Operation:1/2/3/4 \n",
      "2\n",
      "Enter first number: 34\n",
      "Enter second number: 4\n",
      "34.0 - 4.0 = 30.0\n",
      "Do you want to continune(Y/N): 3\n",
      "Select your Operation:1/2/3/4 \n",
      "3\n",
      "Enter first number: 50\n",
      "Enter second number: 2\n",
      "50.0 * 2.0 = 100.0\n",
      "Do you want to continune(Y/N): n\n"
     ]
    }
   ],
   "source": [
    "\"\"\"5. Write a Python Program to Make a Simple Calculator with 4 basic mathematical operations?\"\"\"\n",
    "\n",
    "def add(x,y):\n",
    "    return x+y\n",
    "def sub(x,y):\n",
    "    return x-y\n",
    "def mul(x,y):\n",
    "    return x*y\n",
    "def div(x,y):\n",
    "    return x/y\n",
    "\n",
    "print(\"Select Operations\")\n",
    "print(\"1.Addition\")\n",
    "print(\"2.Subtration\")\n",
    "print(\"3.Multiply\")\n",
    "print(\"4.Divide\")\n",
    "\n",
    "while True:\n",
    "    choice=input(\"Select your Operation:1/2/3/4 \\n\" )\n",
    "    if choice in (\"1\",\"2\",\"3\",\"4\"):\n",
    "        num1 = float(input(\"Enter first number: \"))\n",
    "        num2 = float(input(\"Enter second number: \"))\n",
    "\n",
    "        if choice == \"1\":\n",
    "            print(num1, \"+\" ,num2, \"=\", add(num1,num2))\n",
    "        elif choice == \"2\":\n",
    "            print(num1, \"-\" ,num2, \"=\", sub(num1,num2))\n",
    "        elif choice == \"3\":\n",
    "            print(num1, \"*\" ,num2, \"=\", mul(num1,num2))\n",
    "        elif choice == \"4\":\n",
    "            print(num1, \"/\" ,num2, \"=\", div(num1,num2))\n",
    "\n",
    "        nxt_choice=input(\"Do you want to continune(Y/N): \")\n",
    "        if nxt_choice == \"n\" or nxt_choice==\"N\":\n",
    "            break\n",
    "            \n",
    "    else:\n",
    "        print(\"Invalid Input\")"
   ]
  }
 ],
 "metadata": {
  "kernelspec": {
   "display_name": "Python 3 (ipykernel)",
   "language": "python",
   "name": "python3"
  },
  "language_info": {
   "codemirror_mode": {
    "name": "ipython",
    "version": 3
   },
   "file_extension": ".py",
   "mimetype": "text/x-python",
   "name": "python",
   "nbconvert_exporter": "python",
   "pygments_lexer": "ipython3",
   "version": "3.9.7"
  }
 },
 "nbformat": 4,
 "nbformat_minor": 5
}
